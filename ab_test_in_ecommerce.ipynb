{
 "cells": [
  {
   "attachments": {},
   "cell_type": "markdown",
   "metadata": {},
   "source": [
    "# Данные\n",
    "\n",
    "В исследовании используются данные со статистикой конверсии пользователей сайта.\n",
    "\n",
    "Краткое описание:\n",
    "\n",
    "\"Компания разработала новую посадочную страницу с целью увеличения продаж своего продукта. Было решено провести А/Б-тестирование, чтобы узнать, какая из версий посадочной страницы покажет себя лучше. Пользователей собрали в две группы одинакового размера. Экспериментальной группе (treatment group) была показана новая посадочная страница, контрольной группе (control group) - старая.\""
   ]
  },
  {
   "attachments": {},
   "cell_type": "markdown",
   "metadata": {},
   "source": [
    "# Какие данные представлены?\n",
    "\n",
    "- user_id: уинкальный идентификатор пользователя\n",
    "- timestamp: время посещения страницы\n",
    "- group: группа (экспериментальная или контрольная)\n",
    "- landing_page: посадочная страница (старая - old_page либо новая - new_page)\n",
    "- converted: статус пользователя после просмотра страницы (1 - совершил покупку, 0 - нет)"
   ]
  },
  {
   "attachments": {},
   "cell_type": "markdown",
   "metadata": {},
   "source": [
    "# Задача\n",
    "\n",
    "Выяснить, оказывает ли новый дизайн посадочной страницы какое-либо влияние на конверсию пользователей (есть ли статистически значимая разница между конверсиями)?"
   ]
  },
  {
   "attachments": {},
   "cell_type": "markdown",
   "metadata": {},
   "source": [
    "# 1. Предобработка данных"
   ]
  },
  {
   "cell_type": "code",
   "execution_count": null,
   "metadata": {},
   "outputs": [],
   "source": [
    "# Загрузка библиотек\n",
    "import pandas as pd\n",
    "import numpy as np\n",
    "\n",
    "from IPython.display import Image, display\n",
    "\n",
    "import plotly.graph_objects as go\n",
    "import plotly.express as px\n",
    "import plotly.figure_factory as ff\n",
    "from plotly.subplots import make_subplots\n",
    "\n",
    "import scipy.stats as stats\n",
    "from scipy.stats import shapiro\n",
    "\n",
    "from tqdm.autonotebook import tqdm"
   ]
  },
  {
   "cell_type": "code",
   "execution_count": 2,
   "metadata": {},
   "outputs": [
    {
     "data": {
      "text/html": [
       "<div>\n",
       "<style scoped>\n",
       "    .dataframe tbody tr th:only-of-type {\n",
       "        vertical-align: middle;\n",
       "    }\n",
       "\n",
       "    .dataframe tbody tr th {\n",
       "        vertical-align: top;\n",
       "    }\n",
       "\n",
       "    .dataframe thead th {\n",
       "        text-align: right;\n",
       "    }\n",
       "</style>\n",
       "<table border=\"1\" class=\"dataframe\">\n",
       "  <thead>\n",
       "    <tr style=\"text-align: right;\">\n",
       "      <th></th>\n",
       "      <th>user_id</th>\n",
       "      <th>timestamp</th>\n",
       "      <th>group</th>\n",
       "      <th>landing_page</th>\n",
       "      <th>converted</th>\n",
       "    </tr>\n",
       "  </thead>\n",
       "  <tbody>\n",
       "    <tr>\n",
       "      <th>0</th>\n",
       "      <td>851104</td>\n",
       "      <td>11:48.6</td>\n",
       "      <td>control</td>\n",
       "      <td>old_page</td>\n",
       "      <td>0</td>\n",
       "    </tr>\n",
       "    <tr>\n",
       "      <th>1</th>\n",
       "      <td>804228</td>\n",
       "      <td>01:45.2</td>\n",
       "      <td>control</td>\n",
       "      <td>old_page</td>\n",
       "      <td>0</td>\n",
       "    </tr>\n",
       "    <tr>\n",
       "      <th>2</th>\n",
       "      <td>661590</td>\n",
       "      <td>55:06.2</td>\n",
       "      <td>treatment</td>\n",
       "      <td>new_page</td>\n",
       "      <td>0</td>\n",
       "    </tr>\n",
       "    <tr>\n",
       "      <th>3</th>\n",
       "      <td>853541</td>\n",
       "      <td>28:03.1</td>\n",
       "      <td>treatment</td>\n",
       "      <td>new_page</td>\n",
       "      <td>0</td>\n",
       "    </tr>\n",
       "    <tr>\n",
       "      <th>4</th>\n",
       "      <td>864975</td>\n",
       "      <td>52:26.2</td>\n",
       "      <td>control</td>\n",
       "      <td>old_page</td>\n",
       "      <td>1</td>\n",
       "    </tr>\n",
       "  </tbody>\n",
       "</table>\n",
       "</div>"
      ],
      "text/plain": [
       "   user_id timestamp      group landing_page  converted\n",
       "0   851104   11:48.6    control     old_page          0\n",
       "1   804228   01:45.2    control     old_page          0\n",
       "2   661590   55:06.2  treatment     new_page          0\n",
       "3   853541   28:03.1  treatment     new_page          0\n",
       "4   864975   52:26.2    control     old_page          1"
      ]
     },
     "execution_count": 2,
     "metadata": {},
     "output_type": "execute_result"
    }
   ],
   "source": [
    "# Загрузка данных\n",
    "df = pd.read_csv('data/ab_data.csv')\n",
    "df.head()"
   ]
  },
  {
   "attachments": {},
   "cell_type": "markdown",
   "metadata": {},
   "source": [
    "Сколько записей в данных? Какого типа переменные?"
   ]
  },
  {
   "cell_type": "code",
   "execution_count": 3,
   "metadata": {},
   "outputs": [
    {
     "name": "stdout",
     "output_type": "stream",
     "text": [
      "Размер датасета: 294480 строк и 5 столбцов.\n",
      "<class 'pandas.core.frame.DataFrame'>\n",
      "RangeIndex: 294480 entries, 0 to 294479\n",
      "Data columns (total 5 columns):\n",
      " #   Column        Non-Null Count   Dtype \n",
      "---  ------        --------------   ----- \n",
      " 0   user_id       294480 non-null  int64 \n",
      " 1   timestamp     294480 non-null  object\n",
      " 2   group         294480 non-null  object\n",
      " 3   landing_page  294480 non-null  object\n",
      " 4   converted     294480 non-null  int64 \n",
      "dtypes: int64(2), object(3)\n",
      "memory usage: 11.2+ MB\n"
     ]
    }
   ],
   "source": [
    "print(f'Размер датасета: {df.shape[0]} строк и {df.shape[1]} столбцов.')\n",
    "df.info()"
   ]
  },
  {
   "attachments": {},
   "cell_type": "markdown",
   "metadata": {},
   "source": [
    "Есть ли в данных пропуски?"
   ]
  },
  {
   "cell_type": "code",
   "execution_count": 4,
   "metadata": {},
   "outputs": [
    {
     "data": {
      "text/plain": [
       "user_id         0\n",
       "timestamp       0\n",
       "group           0\n",
       "landing_page    0\n",
       "converted       0\n",
       "dtype: int64"
      ]
     },
     "execution_count": 4,
     "metadata": {},
     "output_type": "execute_result"
    }
   ],
   "source": [
    "df.isnull().sum()"
   ]
  },
  {
   "attachments": {},
   "cell_type": "markdown",
   "metadata": {},
   "source": [
    "Посмотрим, сколько уникальных значений содержится в каждой колонке. Выведем на экран по 5 уникальных значений из каждой колонки."
   ]
  },
  {
   "cell_type": "code",
   "execution_count": 5,
   "metadata": {},
   "outputs": [
    {
     "name": "stdout",
     "output_type": "stream",
     "text": [
      "user_id\n",
      "Количество уникальных значений = 290585: [851104 804228 661590 853541 864975]\n",
      "####################################### \n",
      "\n",
      "timestamp\n",
      "Количество уникальных значений = 35993: ['11:48.6' '01:45.2' '55:06.2' '28:03.1' '52:26.2']\n",
      "####################################### \n",
      "\n",
      "group\n",
      "Количество уникальных значений = 2: ['control' 'treatment']\n",
      "####################################### \n",
      "\n",
      "landing_page\n",
      "Количество уникальных значений = 2: ['old_page' 'new_page']\n",
      "####################################### \n",
      "\n",
      "converted\n",
      "Количество уникальных значений = 2: [0 1]\n",
      "####################################### \n",
      "\n"
     ]
    }
   ],
   "source": [
    "for col in df.columns: \n",
    "  unique_vals = df[col].unique() # Найдем уникальные значения\n",
    "  len_unique_vals = len(unique_vals) # Посчитаем количество уникальных значений\n",
    "\n",
    "  # Выведем результаты\n",
    "  print(col)\n",
    "  print(f'Количество уникальных значений = {len_unique_vals}: {unique_vals[:5]}')\n",
    "  print('#######################################', '\\n')"
   ]
  },
  {
   "attachments": {},
   "cell_type": "markdown",
   "metadata": {},
   "source": [
    "Есть ли в данных повторяющиеся строки?"
   ]
  },
  {
   "cell_type": "code",
   "execution_count": 6,
   "metadata": {},
   "outputs": [
    {
     "name": "stdout",
     "output_type": "stream",
     "text": [
      "Число повторов в данных: 0\n"
     ]
    }
   ],
   "source": [
    "print(f'Число повторов в данных: {df.duplicated().sum()}')"
   ]
  },
  {
   "attachments": {},
   "cell_type": "markdown",
   "metadata": {},
   "source": [
    "Есть ли повторяющиеся идентификаторы пользователей?"
   ]
  },
  {
   "cell_type": "code",
   "execution_count": 7,
   "metadata": {},
   "outputs": [
    {
     "data": {
      "text/html": [
       "<div>\n",
       "<style scoped>\n",
       "    .dataframe tbody tr th:only-of-type {\n",
       "        vertical-align: middle;\n",
       "    }\n",
       "\n",
       "    .dataframe tbody tr th {\n",
       "        vertical-align: top;\n",
       "    }\n",
       "\n",
       "    .dataframe thead th {\n",
       "        text-align: right;\n",
       "    }\n",
       "</style>\n",
       "<table border=\"1\" class=\"dataframe\">\n",
       "  <thead>\n",
       "    <tr style=\"text-align: right;\">\n",
       "      <th></th>\n",
       "      <th>user_id</th>\n",
       "      <th>timestamp</th>\n",
       "      <th>group</th>\n",
       "      <th>landing_page</th>\n",
       "      <th>converted</th>\n",
       "    </tr>\n",
       "  </thead>\n",
       "  <tbody>\n",
       "    <tr>\n",
       "      <th>2656</th>\n",
       "      <td>698120</td>\n",
       "      <td>13:42.6</td>\n",
       "      <td>control</td>\n",
       "      <td>old_page</td>\n",
       "      <td>0</td>\n",
       "    </tr>\n",
       "    <tr>\n",
       "      <th>2893</th>\n",
       "      <td>773192</td>\n",
       "      <td>55:59.6</td>\n",
       "      <td>treatment</td>\n",
       "      <td>new_page</td>\n",
       "      <td>0</td>\n",
       "    </tr>\n",
       "    <tr>\n",
       "      <th>7500</th>\n",
       "      <td>899953</td>\n",
       "      <td>06:54.1</td>\n",
       "      <td>control</td>\n",
       "      <td>new_page</td>\n",
       "      <td>0</td>\n",
       "    </tr>\n",
       "    <tr>\n",
       "      <th>8036</th>\n",
       "      <td>790934</td>\n",
       "      <td>32:20.3</td>\n",
       "      <td>treatment</td>\n",
       "      <td>new_page</td>\n",
       "      <td>0</td>\n",
       "    </tr>\n",
       "    <tr>\n",
       "      <th>10218</th>\n",
       "      <td>633793</td>\n",
       "      <td>16:00.7</td>\n",
       "      <td>treatment</td>\n",
       "      <td>old_page</td>\n",
       "      <td>0</td>\n",
       "    </tr>\n",
       "    <tr>\n",
       "      <th>...</th>\n",
       "      <td>...</td>\n",
       "      <td>...</td>\n",
       "      <td>...</td>\n",
       "      <td>...</td>\n",
       "      <td>...</td>\n",
       "    </tr>\n",
       "    <tr>\n",
       "      <th>294309</th>\n",
       "      <td>787083</td>\n",
       "      <td>15:21.0</td>\n",
       "      <td>control</td>\n",
       "      <td>old_page</td>\n",
       "      <td>0</td>\n",
       "    </tr>\n",
       "    <tr>\n",
       "      <th>294328</th>\n",
       "      <td>641570</td>\n",
       "      <td>59:27.7</td>\n",
       "      <td>control</td>\n",
       "      <td>old_page</td>\n",
       "      <td>0</td>\n",
       "    </tr>\n",
       "    <tr>\n",
       "      <th>294331</th>\n",
       "      <td>689637</td>\n",
       "      <td>34:28.3</td>\n",
       "      <td>control</td>\n",
       "      <td>new_page</td>\n",
       "      <td>0</td>\n",
       "    </tr>\n",
       "    <tr>\n",
       "      <th>294355</th>\n",
       "      <td>744456</td>\n",
       "      <td>32:07.1</td>\n",
       "      <td>treatment</td>\n",
       "      <td>new_page</td>\n",
       "      <td>0</td>\n",
       "    </tr>\n",
       "    <tr>\n",
       "      <th>294478</th>\n",
       "      <td>759899</td>\n",
       "      <td>20:29.0</td>\n",
       "      <td>treatment</td>\n",
       "      <td>new_page</td>\n",
       "      <td>0</td>\n",
       "    </tr>\n",
       "  </tbody>\n",
       "</table>\n",
       "<p>3895 rows × 5 columns</p>\n",
       "</div>"
      ],
      "text/plain": [
       "        user_id timestamp      group landing_page  converted\n",
       "2656     698120   13:42.6    control     old_page          0\n",
       "2893     773192   55:59.6  treatment     new_page          0\n",
       "7500     899953   06:54.1    control     new_page          0\n",
       "8036     790934   32:20.3  treatment     new_page          0\n",
       "10218    633793   16:00.7  treatment     old_page          0\n",
       "...         ...       ...        ...          ...        ...\n",
       "294309   787083   15:21.0    control     old_page          0\n",
       "294328   641570   59:27.7    control     old_page          0\n",
       "294331   689637   34:28.3    control     new_page          0\n",
       "294355   744456   32:07.1  treatment     new_page          0\n",
       "294478   759899   20:29.0  treatment     new_page          0\n",
       "\n",
       "[3895 rows x 5 columns]"
      ]
     },
     "execution_count": 7,
     "metadata": {},
     "output_type": "execute_result"
    }
   ],
   "source": [
    "df[df['user_id'].duplicated()]"
   ]
  },
  {
   "attachments": {},
   "cell_type": "markdown",
   "metadata": {},
   "source": [
    "Есть ли в данных записи с несоответствиями в колонках group и landing_page?\n",
    "\n",
    "Группе treatment должна была показываться новая посадочная страница, группе control - старая."
   ]
  },
  {
   "cell_type": "code",
   "execution_count": 8,
   "metadata": {},
   "outputs": [
    {
     "name": "stdout",
     "output_type": "stream",
     "text": [
      "Сколько раз экспериментальной группе была показана старая посадочная страница: 1965\n",
      "Сколько раз контрольной группе была показана новая посадочная страница: 1928\n",
      "Общее число ошибок: 3893\n"
     ]
    }
   ],
   "source": [
    "df_mismatch_in_treatment = df[(df['group']=='treatment') & (df['landing_page']=='old_page')]\n",
    "\n",
    "df_mismatch_in_control = df[(df['group']=='control') & (df['landing_page']=='new_page')]\n",
    "\n",
    "n_mismatch = df_mismatch_in_treatment.shape[0] + df_mismatch_in_control.shape[0]\n",
    "\n",
    "print(f'Сколько раз экспериментальной группе была показана старая посадочная страница: {df_mismatch_in_treatment.shape[0]}')\n",
    "print(f'Сколько раз контрольной группе была показана новая посадочная страница: {df_mismatch_in_control.shape[0]}')\n",
    "print(f'Общее число ошибок: {n_mismatch}')"
   ]
  },
  {
   "attachments": {},
   "cell_type": "markdown",
   "metadata": {},
   "source": [
    "Было найдено 3895 повторяющихся идентификаторов пользователей и 3893 несоответствия между группой и посадочной страницей.\n",
    "\n",
    "По каким-то причинам некоторым пользователям была показана неправильная посадочная страница. Исключим таких пользователей из исследования."
   ]
  },
  {
   "cell_type": "code",
   "execution_count": 9,
   "metadata": {},
   "outputs": [
    {
     "data": {
      "text/plain": [
       "(290587, 5)"
      ]
     },
     "execution_count": 9,
     "metadata": {},
     "output_type": "execute_result"
    }
   ],
   "source": [
    "df_cleaned = df[(df[\"group\"]==\"treatment\")&(df[\"landing_page\"]==\"new_page\") | (df[\"group\"]==\"control\")&(df[\"landing_page\"]==\"old_page\")]\n",
    "df_cleaned.shape"
   ]
  },
  {
   "attachments": {},
   "cell_type": "markdown",
   "metadata": {},
   "source": [
    "В данных остается еще два дубликата. Данные дубликаты появились из-за повторного посещения пользователями посадочной страницы."
   ]
  },
  {
   "cell_type": "code",
   "execution_count": 10,
   "metadata": {},
   "outputs": [
    {
     "data": {
      "text/html": [
       "<div>\n",
       "<style scoped>\n",
       "    .dataframe tbody tr th:only-of-type {\n",
       "        vertical-align: middle;\n",
       "    }\n",
       "\n",
       "    .dataframe tbody tr th {\n",
       "        vertical-align: top;\n",
       "    }\n",
       "\n",
       "    .dataframe thead th {\n",
       "        text-align: right;\n",
       "    }\n",
       "</style>\n",
       "<table border=\"1\" class=\"dataframe\">\n",
       "  <thead>\n",
       "    <tr style=\"text-align: right;\">\n",
       "      <th></th>\n",
       "      <th>user_id</th>\n",
       "      <th>timestamp</th>\n",
       "      <th>group</th>\n",
       "      <th>landing_page</th>\n",
       "      <th>converted</th>\n",
       "    </tr>\n",
       "  </thead>\n",
       "  <tbody>\n",
       "    <tr>\n",
       "      <th>2893</th>\n",
       "      <td>773192</td>\n",
       "      <td>55:59.6</td>\n",
       "      <td>treatment</td>\n",
       "      <td>new_page</td>\n",
       "      <td>0</td>\n",
       "    </tr>\n",
       "    <tr>\n",
       "      <th>294478</th>\n",
       "      <td>759899</td>\n",
       "      <td>20:29.0</td>\n",
       "      <td>treatment</td>\n",
       "      <td>new_page</td>\n",
       "      <td>0</td>\n",
       "    </tr>\n",
       "  </tbody>\n",
       "</table>\n",
       "</div>"
      ],
      "text/plain": [
       "        user_id timestamp      group landing_page  converted\n",
       "2893     773192   55:59.6  treatment     new_page          0\n",
       "294478   759899   20:29.0  treatment     new_page          0"
      ]
     },
     "execution_count": 10,
     "metadata": {},
     "output_type": "execute_result"
    }
   ],
   "source": [
    "df_cleaned[df_cleaned['user_id'].duplicated()]"
   ]
  },
  {
   "cell_type": "code",
   "execution_count": 11,
   "metadata": {},
   "outputs": [
    {
     "data": {
      "text/html": [
       "<div>\n",
       "<style scoped>\n",
       "    .dataframe tbody tr th:only-of-type {\n",
       "        vertical-align: middle;\n",
       "    }\n",
       "\n",
       "    .dataframe tbody tr th {\n",
       "        vertical-align: top;\n",
       "    }\n",
       "\n",
       "    .dataframe thead th {\n",
       "        text-align: right;\n",
       "    }\n",
       "</style>\n",
       "<table border=\"1\" class=\"dataframe\">\n",
       "  <thead>\n",
       "    <tr style=\"text-align: right;\">\n",
       "      <th></th>\n",
       "      <th>user_id</th>\n",
       "      <th>timestamp</th>\n",
       "      <th>group</th>\n",
       "      <th>landing_page</th>\n",
       "      <th>converted</th>\n",
       "    </tr>\n",
       "  </thead>\n",
       "  <tbody>\n",
       "    <tr>\n",
       "      <th>1899</th>\n",
       "      <td>773192</td>\n",
       "      <td>37:58.8</td>\n",
       "      <td>treatment</td>\n",
       "      <td>new_page</td>\n",
       "      <td>0</td>\n",
       "    </tr>\n",
       "    <tr>\n",
       "      <th>2893</th>\n",
       "      <td>773192</td>\n",
       "      <td>55:59.6</td>\n",
       "      <td>treatment</td>\n",
       "      <td>new_page</td>\n",
       "      <td>0</td>\n",
       "    </tr>\n",
       "  </tbody>\n",
       "</table>\n",
       "</div>"
      ],
      "text/plain": [
       "      user_id timestamp      group landing_page  converted\n",
       "1899   773192   37:58.8  treatment     new_page          0\n",
       "2893   773192   55:59.6  treatment     new_page          0"
      ]
     },
     "execution_count": 11,
     "metadata": {},
     "output_type": "execute_result"
    }
   ],
   "source": [
    "df_cleaned[df_cleaned['user_id'] == 773192]"
   ]
  },
  {
   "cell_type": "code",
   "execution_count": 12,
   "metadata": {},
   "outputs": [
    {
     "data": {
      "text/html": [
       "<div>\n",
       "<style scoped>\n",
       "    .dataframe tbody tr th:only-of-type {\n",
       "        vertical-align: middle;\n",
       "    }\n",
       "\n",
       "    .dataframe tbody tr th {\n",
       "        vertical-align: top;\n",
       "    }\n",
       "\n",
       "    .dataframe thead th {\n",
       "        text-align: right;\n",
       "    }\n",
       "</style>\n",
       "<table border=\"1\" class=\"dataframe\">\n",
       "  <thead>\n",
       "    <tr style=\"text-align: right;\">\n",
       "      <th></th>\n",
       "      <th>user_id</th>\n",
       "      <th>timestamp</th>\n",
       "      <th>group</th>\n",
       "      <th>landing_page</th>\n",
       "      <th>converted</th>\n",
       "    </tr>\n",
       "  </thead>\n",
       "  <tbody>\n",
       "    <tr>\n",
       "      <th>250001</th>\n",
       "      <td>759899</td>\n",
       "      <td>07:36.1</td>\n",
       "      <td>treatment</td>\n",
       "      <td>new_page</td>\n",
       "      <td>0</td>\n",
       "    </tr>\n",
       "    <tr>\n",
       "      <th>294478</th>\n",
       "      <td>759899</td>\n",
       "      <td>20:29.0</td>\n",
       "      <td>treatment</td>\n",
       "      <td>new_page</td>\n",
       "      <td>0</td>\n",
       "    </tr>\n",
       "  </tbody>\n",
       "</table>\n",
       "</div>"
      ],
      "text/plain": [
       "        user_id timestamp      group landing_page  converted\n",
       "250001   759899   07:36.1  treatment     new_page          0\n",
       "294478   759899   20:29.0  treatment     new_page          0"
      ]
     },
     "execution_count": 12,
     "metadata": {},
     "output_type": "execute_result"
    }
   ],
   "source": [
    "df_cleaned[df_cleaned['user_id'] == 759899]"
   ]
  },
  {
   "attachments": {},
   "cell_type": "markdown",
   "metadata": {},
   "source": [
    "# 2. Исследование данных"
   ]
  },
  {
   "attachments": {},
   "cell_type": "markdown",
   "metadata": {},
   "source": [
    "## 2.1. Доверительный интервал"
   ]
  },
  {
   "attachments": {},
   "cell_type": "markdown",
   "metadata": {},
   "source": [
    "Посмотрим на то, какой процент конверсии по всей выборке."
   ]
  },
  {
   "cell_type": "code",
   "execution_count": 13,
   "metadata": {},
   "outputs": [
    {
     "data": {
      "text/plain": [
       "0.11959585253297636"
      ]
     },
     "execution_count": 13,
     "metadata": {},
     "output_type": "execute_result"
    }
   ],
   "source": [
    "df_cleaned.converted.mean()"
   ]
  },
  {
   "attachments": {},
   "cell_type": "markdown",
   "metadata": {},
   "source": [
    "Какой процент отдельно для группы, которой показывалась новая посадочная страница, и группы, которой показывалась старая посадочная страница?"
   ]
  },
  {
   "cell_type": "code",
   "execution_count": 14,
   "metadata": {},
   "outputs": [
    {
     "data": {
      "text/html": [
       "<div>\n",
       "<style scoped>\n",
       "    .dataframe tbody tr th:only-of-type {\n",
       "        vertical-align: middle;\n",
       "    }\n",
       "\n",
       "    .dataframe tbody tr th {\n",
       "        vertical-align: top;\n",
       "    }\n",
       "\n",
       "    .dataframe thead th {\n",
       "        text-align: right;\n",
       "    }\n",
       "</style>\n",
       "<table border=\"1\" class=\"dataframe\">\n",
       "  <thead>\n",
       "    <tr style=\"text-align: right;\">\n",
       "      <th></th>\n",
       "      <th>landing_page</th>\n",
       "      <th>count</th>\n",
       "      <th>mean</th>\n",
       "    </tr>\n",
       "  </thead>\n",
       "  <tbody>\n",
       "    <tr>\n",
       "      <th>0</th>\n",
       "      <td>new_page</td>\n",
       "      <td>145313</td>\n",
       "      <td>11.880561</td>\n",
       "    </tr>\n",
       "    <tr>\n",
       "      <th>1</th>\n",
       "      <td>old_page</td>\n",
       "      <td>145274</td>\n",
       "      <td>12.038630</td>\n",
       "    </tr>\n",
       "  </tbody>\n",
       "</table>\n",
       "</div>"
      ],
      "text/plain": [
       "  landing_page   count       mean\n",
       "0     new_page  145313  11.880561\n",
       "1     old_page  145274  12.038630"
      ]
     },
     "execution_count": 14,
     "metadata": {},
     "output_type": "execute_result"
    }
   ],
   "source": [
    "conv = df_cleaned.groupby('landing_page')['converted'].agg(['count', 'mean']).reset_index()\n",
    "conv['mean'] = conv['mean'] * 100\n",
    "conv"
   ]
  },
  {
   "attachments": {},
   "cell_type": "markdown",
   "metadata": {},
   "source": [
    "Кажется, есть небольшое ухудшение в конверсии пользователей, которым показывалась новая посадочная страница. Для старой посадочной страницы конверсия - 12%, для новой 11,8%. Хочется узнать, значима ли эта разница?\n",
    "\n",
    "Построим 95%-й доверительный интервал для разницы долей."
   ]
  },
  {
   "attachments": {},
   "cell_type": "markdown",
   "metadata": {},
   "source": [
    "!ФОРМУЛА"
   ]
  },
  {
   "cell_type": "code",
   "execution_count": 15,
   "metadata": {},
   "outputs": [
    {
     "name": "stdout",
     "output_type": "stream",
     "text": [
      "Доверительный интервал [-0.00394; 0.00078] ширины 0.00472\n"
     ]
    }
   ],
   "source": [
    "x = df_cleaned[df_cleaned.landing_page == 'new_page'].converted.values\n",
    "y = df_cleaned[df_cleaned.landing_page == 'old_page'].converted.values\n",
    "\n",
    "diff = x.mean() - y.mean() # разница средних\n",
    "nx, ny = x.size, y.size # размеры долей\n",
    "diff_std = np.sqrt(x.var(ddof=1)/nx + y.var(ddof=1)/nx) # стандартное отклонение долей\n",
    "\n",
    "left, right = stats.norm.interval(0.95, loc=diff, scale=diff_std)\n",
    "print(f'Доверительный интервал [{round(left, 5)}; {round(right, 5)}] ширины {round(right-left, 5)}')"
   ]
  },
  {
   "attachments": {},
   "cell_type": "markdown",
   "metadata": {},
   "source": [
    "Ноль входит в доверительный интервал, поэтому на уровне значимости 5% можно сделать вывод о том, что изменения не значимы."
   ]
  },
  {
   "attachments": {},
   "cell_type": "markdown",
   "metadata": {},
   "source": [
    "Проверим гипотезу о равенстве средних, используя z-критерий.\n",
    "\n",
    "Нулевая гипотеза H0: Средние не отличаются.\n",
    "\n",
    "Альтернативная гипотеза H1: Существуют различия в средних значениях."
   ]
  },
  {
   "cell_type": "code",
   "execution_count": 16,
   "metadata": {},
   "outputs": [
    {
     "name": "stdout",
     "output_type": "stream",
     "text": [
      "-1.31 попадает в (-1.96 , 1.96) => Нулевая гипотеза НЕ отвергается\n"
     ]
    }
   ],
   "source": [
    "alpha = 0.05\n",
    "\n",
    "z_obs = diff/diff_std # наблюдаемое значение z-критерия\n",
    "z_crit = stats.norm.ppf(1 - alpha/2) # критическое значение z-критерия\n",
    "\n",
    "print(f'{z_obs:.3} попадает в ({-z_crit:.3} , {z_crit:.3}) => Нулевая гипотеза НЕ отвергается')"
   ]
  },
  {
   "attachments": {},
   "cell_type": "markdown",
   "metadata": {},
   "source": [
    "Наблюдаемое значение z-критерия попадает в критический интервал, значит на уровне значимости 5% можно сделать вывод о том, что изменения не значимы.\n",
    "\n",
    "Зная наблюдаемое значение z-критерия, посчитаем p-уровень значимости."
   ]
  },
  {
   "cell_type": "code",
   "execution_count": 17,
   "metadata": {},
   "outputs": [
    {
     "name": "stdout",
     "output_type": "stream",
     "text": [
      "p-уровень значимости = 0.1891623336124968\n"
     ]
    }
   ],
   "source": [
    "print(f'p-уровень значимости = {2 * (1 - stats.norm().cdf(np.abs(z_obs)))}')"
   ]
  },
  {
   "attachments": {},
   "cell_type": "markdown",
   "metadata": {},
   "source": [
    "p-уровень значимости больше 0.05, что также не позволяет отклонить гипотезу о равенстве средних."
   ]
  },
  {
   "attachments": {},
   "cell_type": "markdown",
   "metadata": {},
   "source": [
    "## 2.2. Критерий хи-квадрат Пирсона"
   ]
  },
  {
   "attachments": {},
   "cell_type": "markdown",
   "metadata": {},
   "source": [
    "Мы можем оценить значимость различий между двумя группами, используя критерий хи-квадрат Пирсона. Для начала построим таблицу сопряженности.\n",
    "\n",
    "Посмотрим на количество и процент пользователей, совершивших покупку и не совершивших покупку, отдельно в контрольной и экспериментальной группах."
   ]
  },
  {
   "cell_type": "code",
   "execution_count": 18,
   "metadata": {},
   "outputs": [
    {
     "data": {
      "text/html": [
       "<div>\n",
       "<style scoped>\n",
       "    .dataframe tbody tr th:only-of-type {\n",
       "        vertical-align: middle;\n",
       "    }\n",
       "\n",
       "    .dataframe tbody tr th {\n",
       "        vertical-align: top;\n",
       "    }\n",
       "\n",
       "    .dataframe thead th {\n",
       "        text-align: right;\n",
       "    }\n",
       "</style>\n",
       "<table border=\"1\" class=\"dataframe\">\n",
       "  <thead>\n",
       "    <tr style=\"text-align: right;\">\n",
       "      <th></th>\n",
       "      <th>Кол-во в контр. группе</th>\n",
       "      <th>Кол-во в эксп. группе</th>\n",
       "      <th>% в контр. группе</th>\n",
       "      <th>% в эксп. группе</th>\n",
       "    </tr>\n",
       "    <tr>\n",
       "      <th>converted</th>\n",
       "      <th></th>\n",
       "      <th></th>\n",
       "      <th></th>\n",
       "      <th></th>\n",
       "    </tr>\n",
       "  </thead>\n",
       "  <tbody>\n",
       "    <tr>\n",
       "      <th>0</th>\n",
       "      <td>127785</td>\n",
       "      <td>128049</td>\n",
       "      <td>0.879614</td>\n",
       "      <td>0.881194</td>\n",
       "    </tr>\n",
       "    <tr>\n",
       "      <th>1</th>\n",
       "      <td>17489</td>\n",
       "      <td>17264</td>\n",
       "      <td>0.120386</td>\n",
       "      <td>0.118806</td>\n",
       "    </tr>\n",
       "  </tbody>\n",
       "</table>\n",
       "</div>"
      ],
      "text/plain": [
       "           Кол-во в контр. группе  Кол-во в эксп. группе  % в контр. группе  \\\n",
       "converted                                                                     \n",
       "0                          127785                 128049           0.879614   \n",
       "1                           17489                  17264           0.120386   \n",
       "\n",
       "           % в эксп. группе  \n",
       "converted                    \n",
       "0                  0.881194  \n",
       "1                  0.118806  "
      ]
     },
     "execution_count": 18,
     "metadata": {},
     "output_type": "execute_result"
    }
   ],
   "source": [
    "df_counts = pd.DataFrame({'Кол-во в контр. группе': df_cleaned[df_cleaned.group=='control'].converted.value_counts(),\n",
    "              'Кол-во в эксп. группе': df_cleaned[df_cleaned.group=='treatment'].converted.value_counts(),\n",
    "              '% в контр. группе': df_cleaned[df_cleaned.group=='control'].converted.value_counts()/ len(df_cleaned[df_cleaned.group=='control']),\n",
    "              '% в эксп. группе': df_cleaned[df_cleaned.group=='treatment'].converted.value_counts() / len(df_cleaned[df_cleaned.group=='treatment'])})\n",
    "df_counts"
   ]
  },
  {
   "attachments": {},
   "cell_type": "markdown",
   "metadata": {},
   "source": [
    "Для исследования возьмем из таблицы первые две колонки с количеством пользователей."
   ]
  },
  {
   "cell_type": "code",
   "execution_count": 19,
   "metadata": {},
   "outputs": [
    {
     "data": {
      "text/plain": [
       "array([[127785, 128049],\n",
       "       [ 17489,  17264]], dtype=int64)"
      ]
     },
     "execution_count": 19,
     "metadata": {},
     "output_type": "execute_result"
    }
   ],
   "source": [
    "count_table = df_counts.iloc[:,0:2].to_numpy()\n",
    "count_table"
   ]
  },
  {
   "attachments": {},
   "cell_type": "markdown",
   "metadata": {},
   "source": [
    "Нулевая гипотеза H0: Распределение не отличается от ожидаемого.\n",
    "\n",
    "Альтернативная гипотеза H1: Распределение отличается (существует статистически значимая разница между конверсиями в зависимости от версии посадочной страницы)."
   ]
  },
  {
   "cell_type": "code",
   "execution_count": 20,
   "metadata": {},
   "outputs": [
    {
     "name": "stdout",
     "output_type": "stream",
     "text": [
      "Число степеней свободы: 1\n",
      "####################################### \n",
      "\n",
      "Ожидаемое распределение: \n",
      "[[127899.83211912 127934.16788088]\n",
      " [ 17374.16788088  17378.83211912]]\n",
      "####################################### \n",
      "\n",
      "Критическое значение статистики: 3.84\n",
      "Полученное значение статистики: 1.71\n",
      "####################################### \n",
      "\n",
      "Критическое значение p-уровня значимости: 0.05\n",
      "Полученное значение p-уровня значимости: 0.19\n",
      "####################################### \n",
      "\n"
     ]
    }
   ],
   "source": [
    "stat, p, dof, expected = stats.chi2_contingency(count_table) # результаты теста\n",
    "print(f'Число степеней свободы: {dof}')\n",
    "print('#######################################', '\\n')\n",
    "\n",
    "print('Ожидаемое распределение: ')\n",
    "print(expected)\n",
    "print('#######################################', '\\n')\n",
    "\n",
    "prob = 0.95\n",
    "critical = stats.chi2.ppf(prob, dof)\n",
    "print(f'Критическое значение статистики: {round(critical, 2)}')\n",
    "print(f'Полученное значение статистики: {round(stat, 2)}')\n",
    "print('#######################################', '\\n')\n",
    "\n",
    "alpha = 1-prob\n",
    "print(f'Критическое значение p-уровня значимости: {round(alpha, 2)}')\n",
    "print(f'Полученное значение p-уровня значимости: {round(p, 2)}')\n",
    "print('#######################################', '\\n')"
   ]
  },
  {
   "attachments": {},
   "cell_type": "markdown",
   "metadata": {},
   "source": [
    "Наблюдаемое значение p-уровня значимости больше критического значения, поэтому можно сделать вывод, что статистически значимой разницы между конверсиями нет."
   ]
  },
  {
   "attachments": {},
   "cell_type": "markdown",
   "metadata": {},
   "source": [
    "## 2.3. Бутстрэп"
   ]
  },
  {
   "attachments": {},
   "cell_type": "markdown",
   "metadata": {},
   "source": [
    "Сделаем 10000 бутстрэп выборок и посчитаем средние значения конверсии по каждой версии посадочной страницы. Затем посмотрим на распределние средних."
   ]
  },
  {
   "cell_type": "code",
   "execution_count": 21,
   "metadata": {},
   "outputs": [
    {
     "data": {
      "application/vnd.jupyter.widget-view+json": {
       "model_id": "7deb06eb9cf14f96ae79ff95cdc74c9c",
       "version_major": 2,
       "version_minor": 0
      },
      "text/plain": [
       "  0%|          | 0/10000 [00:00<?, ?it/s]"
      ]
     },
     "metadata": {},
     "output_type": "display_data"
    }
   ],
   "source": [
    "boot_1d = []\n",
    "\n",
    "for i in tqdm(range(10000), leave=False):\n",
    "    boot_mean = df_cleaned.sample(frac=1, replace=True).groupby('landing_page').converted.mean()\n",
    "    boot_1d.append(boot_mean)\n",
    "    \n",
    "# Сделаем датафрейм\n",
    "boot_1d = pd.DataFrame(boot_1d)"
   ]
  },
  {
   "cell_type": "code",
   "execution_count": 25,
   "metadata": {},
   "outputs": [
    {
     "data": {
      "application/vnd.plotly.v1+json": {
       "config": {
        "plotlyServerURL": "https://plot.ly"
       },
       "data": [
        {
         "legendgroup": "Новый лендинг",
         "marker": {
          "color": "#A56CC1"
         },
         "mode": "lines",
         "name": "Новый лендинг",
         "showlegend": true,
         "type": "scatter",
         "x": [
          0.11549103354056124,
          0.11550467361251314,
          0.11551831368446504,
          0.11553195375641692,
          0.11554559382836882,
          0.11555923390032072,
          0.11557287397227262,
          0.1155865140442245,
          0.1156001541161764,
          0.1156137941881283,
          0.1156274342600802,
          0.11564107433203208,
          0.11565471440398398,
          0.11566835447593588,
          0.11568199454788777,
          0.11569563461983966,
          0.11570927469179156,
          0.11572291476374345,
          0.11573655483569535,
          0.11575019490764724,
          0.11576383497959913,
          0.11577747505155103,
          0.11579111512350293,
          0.11580475519545481,
          0.11581839526740671,
          0.11583203533935861,
          0.11584567541131051,
          0.1158593154832624,
          0.11587295555521429,
          0.11588659562716619,
          0.11590023569911809,
          0.11591387577106999,
          0.11592751584302187,
          0.11594115591497377,
          0.11595479598692567,
          0.11596843605887756,
          0.11598207613082945,
          0.11599571620278135,
          0.11600935627473324,
          0.11602299634668514,
          0.11603663641863703,
          0.11605027649058892,
          0.11606391656254082,
          0.11607755663449272,
          0.1160911967064446,
          0.1161048367783965,
          0.1161184768503484,
          0.1161321169223003,
          0.11614575699425218,
          0.11615939706620408,
          0.11617303713815598,
          0.11618667721010788,
          0.11620031728205978,
          0.11621395735401166,
          0.11622759742596356,
          0.11624123749791546,
          0.11625487756986735,
          0.11626851764181924,
          0.11628215771377114,
          0.11629579778572303,
          0.11630943785767493,
          0.11632307792962682,
          0.11633671800157872,
          0.11635035807353061,
          0.11636399814548251,
          0.1163776382174344,
          0.1163912782893863,
          0.11640491836133819,
          0.11641855843329009,
          0.11643219850524197,
          0.11644583857719387,
          0.11645947864914577,
          0.11647311872109767,
          0.11648675879304955,
          0.11650039886500145,
          0.11651403893695335,
          0.11652767900890525,
          0.11654131908085714,
          0.11655495915280903,
          0.11656859922476093,
          0.11658223929671283,
          0.11659587936866472,
          0.11660951944061661,
          0.1166231595125685,
          0.1166367995845204,
          0.1166504396564723,
          0.11666407972842419,
          0.11667771980037608,
          0.11669135987232798,
          0.11670499994427988,
          0.11671864001623176,
          0.11673228008818366,
          0.11674592016013556,
          0.11675956023208746,
          0.11677320030403934,
          0.11678684037599124,
          0.11680048044794314,
          0.11681412051989504,
          0.11682776059184692,
          0.11684140066379882,
          0.11685504073575072,
          0.11686868080770262,
          0.11688232087965451,
          0.1168959609516064,
          0.1169096010235583,
          0.1169232410955102,
          0.11693688116746209,
          0.11695052123941398,
          0.11696416131136587,
          0.11697780138331777,
          0.11699144145526967,
          0.11700508152722155,
          0.11701872159917345,
          0.11703236167112535,
          0.11704600174307725,
          0.11705964181502913,
          0.11707328188698103,
          0.11708692195893293,
          0.11710056203088483,
          0.11711420210283671,
          0.11712784217478861,
          0.11714148224674051,
          0.1171551223186924,
          0.11716876239064429,
          0.11718240246259619,
          0.11719604253454809,
          0.11720968260649998,
          0.11722332267845188,
          0.11723696275040377,
          0.11725060282235567,
          0.11726424289430756,
          0.11727788296625946,
          0.11729152303821135,
          0.11730516311016324,
          0.11731880318211514,
          0.11733244325406704,
          0.11734608332601892,
          0.11735972339797082,
          0.11737336346992272,
          0.11738700354187462,
          0.1174006436138265,
          0.1174142836857784,
          0.1174279237577303,
          0.1174415638296822,
          0.11745520390163408,
          0.11746884397358598,
          0.11748248404553788,
          0.11749612411748978,
          0.11750976418944166,
          0.11752340426139356,
          0.11753704433334546,
          0.11755068440529735,
          0.11756432447724925,
          0.11757796454920114,
          0.11759160462115303,
          0.11760524469310493,
          0.11761888476505683,
          0.11763252483700871,
          0.11764616490896061,
          0.11765980498091251,
          0.11767344505286441,
          0.11768708512481629,
          0.11770072519676819,
          0.11771436526872009,
          0.11772800534067199,
          0.11774164541262387,
          0.11775528548457577,
          0.11776892555652767,
          0.11778256562847957,
          0.11779620570043145,
          0.11780984577238335,
          0.11782348584433525,
          0.11783712591628714,
          0.11785076598823903,
          0.11786440606019093,
          0.11787804613214282,
          0.11789168620409472,
          0.11790532627604662,
          0.1179189663479985,
          0.1179326064199504,
          0.1179462464919023,
          0.1179598865638542,
          0.11797352663580608,
          0.11798716670775798,
          0.11800080677970988,
          0.11801444685166178,
          0.11802808692361366,
          0.11804172699556556,
          0.11805536706751746,
          0.11806900713946936,
          0.11808264721142124,
          0.11809628728337314,
          0.11810992735532504,
          0.11812356742727693,
          0.11813720749922882,
          0.11815084757118072,
          0.11816448764313262,
          0.11817812771508451,
          0.1181917677870364,
          0.1182054078589883,
          0.1182190479309402,
          0.11823268800289209,
          0.11824632807484399,
          0.11825996814679587,
          0.11827360821874777,
          0.11828724829069967,
          0.11830088836265157,
          0.11831452843460345,
          0.11832816850655535,
          0.11834180857850725,
          0.11835544865045915,
          0.11836908872241103,
          0.11838272879436293,
          0.11839636886631483,
          0.11841000893826673,
          0.11842364901021861,
          0.11843728908217051,
          0.1184509291541224,
          0.1184645692260743,
          0.11847820929802619,
          0.11849184936997809,
          0.11850548944192998,
          0.11851912951388188,
          0.11853276958583377,
          0.11854640965778566,
          0.11856004972973756,
          0.11857368980168946,
          0.11858732987364136,
          0.11860096994559324,
          0.11861461001754514,
          0.11862825008949704,
          0.11864189016144894,
          0.11865553023340082,
          0.11866917030535272,
          0.11868281037730462,
          0.11869645044925652,
          0.1187100905212084,
          0.1187237305931603,
          0.1187373706651122,
          0.1187510107370641,
          0.11876465080901598,
          0.11877829088096788,
          0.11879193095291977,
          0.11880557102487167,
          0.11881921109682356,
          0.11883285116877546,
          0.11884649124072735,
          0.11886013131267925,
          0.11887377138463114,
          0.11888741145658303,
          0.11890105152853493,
          0.11891469160048683,
          0.11892833167243873,
          0.11894197174439061,
          0.11895561181634251,
          0.11896925188829441,
          0.1189828919602463,
          0.11899653203219819,
          0.11901017210415009,
          0.11902381217610199,
          0.11903745224805388,
          0.11905109232000577,
          0.11906473239195767,
          0.11907837246390957,
          0.11909201253586146,
          0.11910565260781335,
          0.11911929267976525,
          0.11913293275171714,
          0.11914657282366904,
          0.11916021289562093,
          0.11917385296757282,
          0.11918749303952472,
          0.11920113311147662,
          0.1192147731834285,
          0.1192284132553804,
          0.1192420533273323,
          0.1192556933992842,
          0.1192693334712361,
          0.11928297354318798,
          0.11929661361513988,
          0.11931025368709178,
          0.11932389375904368,
          0.11933753383099556,
          0.11935117390294746,
          0.11936481397489936,
          0.11937845404685125,
          0.11939209411880314,
          0.11940573419075504,
          0.11941937426270693,
          0.11943301433465883,
          0.11944665440661072,
          0.11946029447856261,
          0.11947393455051451,
          0.11948757462246641,
          0.1195012146944183,
          0.1195148547663702,
          0.11952849483832209,
          0.11954213491027399,
          0.11955577498222589,
          0.11956941505417777,
          0.11958305512612967,
          0.11959669519808157,
          0.11961033527003345,
          0.11962397534198535,
          0.11963761541393725,
          0.11965125548588915,
          0.11966489555784104,
          0.11967853562979293,
          0.11969217570174483,
          0.11970581577369672,
          0.11971945584564862,
          0.11973309591760051,
          0.1197467359895524,
          0.1197603760615043,
          0.1197740161334562,
          0.11978765620540809,
          0.11980129627735998,
          0.11981493634931188,
          0.11982857642126378,
          0.11984221649321566,
          0.11985585656516756,
          0.11986949663711946,
          0.11988313670907136,
          0.11989677678102326,
          0.11991041685297514,
          0.11992405692492704,
          0.11993769699687894,
          0.11995133706883082,
          0.11996497714078272,
          0.11997861721273462,
          0.11999225728468652,
          0.12000589735663841,
          0.1200195374285903,
          0.1200331775005422,
          0.1200468175724941,
          0.12006045764444599,
          0.12007409771639788,
          0.12008773778834977,
          0.12010137786030167,
          0.12011501793225357,
          0.12012865800420545,
          0.12014229807615735,
          0.12015593814810925,
          0.12016957822006115,
          0.12018321829201303,
          0.12019685836396493,
          0.12021049843591683,
          0.12022413850786873,
          0.12023777857982063,
          0.12025141865177251,
          0.12026505872372441,
          0.1202786987956763,
          0.12029233886762819,
          0.12030597893958009,
          0.12031961901153199,
          0.12033325908348388,
          0.12034689915543578,
          0.12036053922738767,
          0.12037417929933956,
          0.12038781937129146,
          0.12040145944324336,
          0.12041509951519525,
          0.12042873958714714,
          0.12044237965909904,
          0.12045601973105094,
          0.12046965980300282,
          0.12048329987495472,
          0.12049693994690662,
          0.12051058001885852,
          0.1205242200908104,
          0.1205378601627623,
          0.1205515002347142,
          0.1205651403066661,
          0.120578780378618,
          0.12059242045056988,
          0.12060606052252178,
          0.12061970059447367,
          0.12063334066642556,
          0.12064698073837746,
          0.12066062081032936,
          0.12067426088228125,
          0.12068790095423315,
          0.12070154102618504,
          0.12071518109813693,
          0.12072882117008883,
          0.12074246124204073,
          0.12075610131399261,
          0.12076974138594451,
          0.12078338145789641,
          0.12079702152984831,
          0.12081066160180019,
          0.12082430167375209,
          0.12083794174570399,
          0.12085158181765589,
          0.12086522188960777,
          0.12087886196155967,
          0.12089250203351157,
          0.12090614210546347,
          0.12091978217741536,
          0.12093342224936725,
          0.12094706232131915,
          0.12096070239327104,
          0.12097434246522293,
          0.12098798253717483,
          0.12100162260912672,
          0.12101526268107862,
          0.12102890275303052,
          0.1210425428249824,
          0.1210561828969343,
          0.1210698229688862,
          0.1210834630408381,
          0.12109710311278998,
          0.12111074318474188,
          0.12112438325669378,
          0.12113802332864568,
          0.12115166340059756,
          0.12116530347254946,
          0.12117894354450136,
          0.12119258361645326,
          0.12120622368840514,
          0.12121986376035704,
          0.12123350383230894,
          0.12124714390426083,
          0.12126078397621273,
          0.12127442404816462,
          0.12128806412011651,
          0.12130170419206841,
          0.1213153442640203,
          0.1213289843359722,
          0.1213426244079241,
          0.12135626447987599,
          0.12136990455182789,
          0.12138354462377977,
          0.12139718469573167,
          0.12141082476768357,
          0.12142446483963547,
          0.12143810491158735,
          0.12145174498353925,
          0.12146538505549115,
          0.12147902512744305,
          0.12149266519939493,
          0.12150630527134683,
          0.12151994534329873,
          0.12153358541525063,
          0.12154722548720251,
          0.12156086555915441,
          0.1215745056311063,
          0.1215881457030582,
          0.1216017857750101,
          0.12161542584696199,
          0.12162906591891388,
          0.12164270599086578,
          0.12165634606281767,
          0.12166998613476956,
          0.12168362620672146,
          0.12169726627867336,
          0.12171090635062526,
          0.12172454642257714,
          0.12173818649452904,
          0.12175182656648094,
          0.12176546663843284,
          0.12177910671038472,
          0.12179274678233662,
          0.12180638685428852,
          0.12182002692624042,
          0.1218336669981923,
          0.1218473070701442,
          0.1218609471420961,
          0.121874587214048,
          0.12188822728599988,
          0.12190186735795178,
          0.12191550742990367,
          0.12192914750185557,
          0.12194278757380747,
          0.12195642764575935,
          0.12197006771771125,
          0.12198370778966315,
          0.12199734786161504,
          0.12201098793356693,
          0.12202462800551883,
          0.12203826807747073,
          0.12205190814942263,
          0.12206554822137451,
          0.12207918829332641,
          0.12209282836527831,
          0.1221064684372302,
          0.12212010850918209,
          0.12213374858113399,
          0.12214738865308589,
          0.12216102872503778,
          0.12217466879698967,
          0.12218830886894157,
          0.12220194894089347,
          0.12221558901284536,
          0.12222922908479725,
          0.12224286915674915,
          0.12225650922870104,
          0.12227014930065294,
          0.12228378937260484,
          0.12229742944455672
         ],
         "xaxis": "x",
         "y": [
          0.43688705412113243,
          0.45506623847701083,
          0.4714618438319631,
          0.48605053445815066,
          0.4988780649004638,
          0.5100608785455111,
          0.519786182498283,
          0.5283105402465254,
          0.5359569471036394,
          0.5431102664733862,
          0.55021083186961,
          0.5577459847047923,
          0.5662393412897178,
          0.5762376763727257,
          0.5882954761571714,
          0.6029574402441649,
          0.6207394770467564,
          0.6421090095414717,
          0.6674656513054799,
          0.6971234900376763,
          0.7312962956752372,
          0.7700869311161338,
          0.8134820771088873,
          0.8613530958426298,
          0.9134634717816963,
          0.9694828174526737,
          1.0290069588223973,
          1.0915831654451567,
          1.156739208160102,
          1.2240146475192903,
          1.2929926031194938,
          1.3633302369381861,
          1.4347862969886382,
          1.5072442920041496,
          1.5807301742124704,
          1.6554237607624025,
          1.7316634897675673,
          1.8099444533676068,
          1.890909955002247,
          1.975337089045173,
          2.0641170365552735,
          2.1582309188937487,
          2.258722164987067,
          2.36666644361284,
          2.483140302244082,
          2.6091897454371167,
          2.7458000765735613,
          2.893868405791893,
          3.0541802750939775,
          3.2273918451274484,
          3.4140190027875574,
          3.614434564805077,
          3.8288744587871855,
          4.0574533605467025,
          4.300189768882184,
          4.557039932384051,
          4.8279394431625855,
          5.112850720798194,
          5.411814068332371,
          5.724999529098509,
          6.052756439977185,
          6.395657385981431,
          6.754533227142379,
          7.130495998779971,
          7.5249467835373,
          7.939566119080882,
          8.376285140012662,
          8.837236456142858,
          9.324684738406393,
          9.840938106833697,
          10.388242666580947,
          10.968663872738595,
          11.583959752876286,
          12.235452282953254,
          12.923904280372575,
          13.649409916512985,
          14.41130722887976,
          15.208120715025704,
          16.03754113692706,
          16.89644802867114,
          17.780978121494478,
          18.686640091766268,
          19.60847288418931,
          20.541241609804214,
          21.479661951390124,
          22.41864142375555,
          23.35352400788297,
          24.280323825424528,
          25.19593377822409,
          26.098296475068288,
          26.9865272165115,
          27.860982108117916,
          28.72326822672928,
          29.57619681257719,
          30.423684315430428,
          31.270609416989696,
          32.12263657755785,
          32.986018004260835,
          33.867386126393626,
          34.77354774156698,
          35.71128914290165,
          36.68719903744685,
          37.70751327251675,
          38.77798267583938,
          39.90376303623707,
          41.08932467881633,
          42.338378387017,
          43.6538146247076,
          45.03765401039665,
          46.49100856760394,
          48.014055108398324,
          49.6060238486901,
          51.265206664210474,
          52.988989999785055,
          54.77391717425209,
          56.61578364571817,
          58.509766826303284,
          60.45058949727561,
          62.43271310213215,
          64.45055455572192,
          66.49871805474295,
          68.57223199015097,
          70.66678060843566,
          72.77892056553864,
          74.90627383504861,
          77.04769031398111,
          79.2033755737352,
          81.37498116194251,
          83.56565634474413,
          85.78006095933844,
          88.02433904230482,
          90.30605220074337,
          92.63407055776018,
          95.01841792281328,
          97.4700670764331,
          100.00068117972131,
          102.62229869613093,
          105.34696205417721,
          108.18629456681698,
          111.15103558459452,
          114.25054997545445,
          117.49233407785432,
          120.88154543132916,
          124.42058700998126,
          128.10877764249565,
          131.9421382980449,
          135.91331877256798,
          140.01168121904675,
          144.22354650331573,
          148.53259744090678,
          152.92042072505507,
          157.36715804374987,
          161.85222770929315,
          166.35507209960014,
          170.85588402275286,
          175.3362670408637,
          179.77979065635088,
          184.17241047622045,
          188.50273508544325,
          192.762134201911,
          196.9446954882028,
          201.04704895078248,
          205.06808714343296,
          209.00861567380122,
          212.87097139665124,
          216.65864512528515,
          220.37594198875988,
          224.0277062510463,
          227.61912921455004,
          231.15564956928867,
          234.64294604668376,
          238.08701326236456,
          241.49430384839468,
          244.87191390971861,
          248.2277848681739,
          251.57089309867595,
          254.91139947857104,
          258.2607339685185,
          261.6315953796077,
          265.03785317150835,
          268.4943459604335,
          272.01657978555164,
          275.6203374188684,
          279.3212174312818,
          283.1341277201272,
          287.0727622481138,
          291.1490914933756,
          295.3728964240466,
          299.75137277110986,
          304.28882727821485,
          308.98648093700723,
          313.842386582557,
          318.851460298474,
          324.0056185352471,
          329.2940062771733,
          334.70329648629934,
          340.218037739853,
          345.82102563284246,
          351.49367415518503,
          357.2163657457466,
          362.9687628250169,
          368.73006896793026,
          374.47923407183737,
          380.19510442002655,
          385.85652491495506,
          391.4424064198167,
          396.9317755810217,
          402.3038272375826,
          407.5380001914451,
          412.61409549725744,
          417.512452510684,
          422.2141919166445,
          426.7015272846825,
          430.95813802773125,
          434.96958779851946,
          438.7237642587461,
          442.21130970490157,
          445.42600801808516,
          448.36509239738234,
          451.02944061799025,
          453.4236300748195,
          455.5558332418407,
          457.4375447161468,
          459.0831428231479,
          460.50930082096517,
          461.7342740353595,
          462.7770988607642,
          463.65674674019465,
          464.39128049025214,
          464.9970614316962,
          465.488053736553,
          465.8752674411939,
          466.16637409642567,
          466.36551953609745,
          466.47334731008243,
          466.4872345359882,
          466.40172986860557,
          466.20917155503724,
          465.90045271850215,
          465.4658916724023,
          464.89615777081,
          464.1831985802993,
          463.3211124656625,
          462.30691234820364,
          461.1411315686506,
          459.8282313764014,
          458.3767812053466,
          456.799396924018,
          455.11243773391755,
          453.3354781931523,
          451.4905867059738,
          449.60145449293503,
          447.6924284355382,
          445.7875064415606,
          443.90935465243643,
          442.0784019090676,
          440.31205886298994,
          438.6240978381072,
          437.02421620035733,
          435.5177919409166,
          434.1058267941139,
          432.78506071074486,
          431.5482328105756,
          430.38445856717675,
          429.27969102062053,
          428.21723493615434,
          427.17828636110255,
          426.1424750915348,
          425.0883931909888,
          423.9940980315904,
          422.83758268317894,
          421.5972094769037,
          420.2521041530933,
          418.78250839813217,
          417.1700882298275,
          415.39819516191113,
          413.4520769108278,
          411.3190350184769,
          408.98852835637615,
          406.452223996195,
          403.7040000745721,
          400.73990854577374,
          397.55810850121446,
          394.1587824472205,
          390.5440481068487,
          386.71787670779565,
          382.68602538240856,
          378.45598658437547,
          374.036951930914,
          369.43978240255035,
          364.67697223294175,
          359.7625908895231,
          354.71218687745585,
          349.54263898872574,
          344.27194500131077,
          338.91894427286724,
          333.50297841168316,
          328.04350225938833,
          322.5596647078476,
          317.06988437967493,
          311.59144811529785,
          306.1401600440665,
          300.73006568550034,
          295.37326935973243,
          290.07985488793304,
          284.85791011401636,
          279.71364630134923,
          274.6515950612502,
          269.67485910104,
          264.785389404012,
          259.9842607761543,
          255.27191994158107,
          250.64838511878193,
          246.11338257802896,
          241.6664132293017,
          237.30674995422393,
          233.03337339548625,
          228.84485964829406,
          224.7392373770107,
          220.7138341561179,
          216.7651323548058,
          212.88865384291134,
          209.07889046189558,
          205.3292938627825,
          201.6323342186557,
          197.97963267821584,
          194.3621674052873,
          190.77054780128705,
          187.1953462160234,
          183.62747136414683,
          180.05856311023655,
          176.4813846746865,
          172.89018609589948,
          169.28101239299838,
          165.65193164117866,
          162.00316225244214,
          158.3370850593441,
          154.65813395984847,
          150.97256825617333,
          147.28813954744314,
          143.6136751228728,
          139.958607249386,
          136.332482681192,
          132.74448851268107,
          129.20302887043383,
          125.71538200674016,
          122.28745962022259,
          118.92368052347004,
          115.62696016583047,
          112.39880715635891,
          109.23950891656233,
          106.14838183412488,
          103.12405739749467,
          100.16477501620369,
          97.26865444870933,
          94.4339255063382,
          91.65909926058521,
          88.94307248269399,
          86.28516458957414,
          83.68509314208305,
          81.14289929678901,
          78.65883814331505,
          76.2332504165263,
          73.8664317530326,
          71.5585137648312,
          69.30936816787538,
          67.11854153282019,
          64.98522441418861,
          62.9082550869916,
          60.88615518943492,
          58.91719241415203,
          56.99946405408568,
          55.13099462376946,
          53.30984079279786,
          51.53419729495131,
          49.80249812062927,
          48.11350800091619,
          46.46639984203468,
          44.86081432762481,
          43.29689839450223,
          41.77531977450614,
          40.297255377316226,
          38.86435206306328,
          37.47865939071505,
          36.142535254621855,
          34.85852690386687,
          33.629231583090515,
          32.457142790666964,
          31.344489735281474,
          30.293078787209303,
          29.3041463824951,
          28.378232805322654,
          27.515085469355522,
          26.71359874522201,
          25.971795126643567,
          25.286849758587397,
          24.655157298199228,
          24.0724370134651,
          23.533869226921716,
          23.03425394406076,
          22.568180982283586,
          22.130200280077926,
          21.714981376227275,
          21.31745227392161,
          20.93290992750657,
          20.557097220023138,
          20.186244294316722,
          19.81707518630379,
          19.44678360957185,
          19.072984200878455,
          18.6936473451547,
          18.307026707162322,
          17.911588729675504,
          17.505952619747923,
          17.08884781895168,
          16.65909379550311,
          16.2156044185092,
          15.757416427896882,
          15.283738863594447,
          14.794018019487915,
          14.288010760982386,
          13.765858051225063,
          13.228150356572236,
          12.6759772487906,
          12.110954907394106,
          11.535227192871632,
          10.951438296132508,
          10.362677425140086,
          9.772398317126532,
          9.18431834021188,
          8.60230339780767,
          8.03024566713049,
          7.471941359318252,
          6.9309752273372345,
          6.410617576043781,
          5.9137381973564676,
          5.442740134983103,
          4.999514647258345,
          4.585417330413225,
          4.201264196587772,
          3.847345633595775,
          3.523455622827369,
          3.2289333334573223,
          2.962714192120956,
          2.7233876789070783,
          2.509259352383446,
          2.31841489743663,
          2.1487842755237505,
          1.9982043129500342,
          1.8644782828570052,
          1.7454312287296807,
          1.638959957281857,
          1.543076813615971,
          1.4559465544449948,
          1.3759158608487736,
          1.3015352764164574,
          1.2315736076789225,
          1.1650250642536957,
          1.101109627608946,
          1.0392673037511764,
          0.9791470259658027,
          0.9205910259525582,
          0.8636154899643018,
          0.8083882722694276,
          0.7552043673043604,
          0.7044597619300382,
          0.6566242168549615,
          0.6122134746137334,
          0.5717613683451231,
          0.5357923128067005,
          0.5047946924274144,
          0.4791957115215518,
          0.45933832619972803,
          0.445460921341385,
          0.43768041460320395,
          0.43597945005467453,
          0.4401982772896253,
          0.4500317929932369,
          0.46503205157038874,
          0.4846163358490897,
          0.5080806297965592,
          0.5346180690186022,
          0.5633416813216433,
          0.5933104901633095,
          0.623557859267158,
          0.6531208251758959,
          0.6810691093488996,
          0.7065325293162653,
          0.7287256384865387,
          0.7469686077694314,
          0.760703603458984,
          0.7695061936812757,
          0.7730916060081741,
          0.7713159372404097,
          0.7641726611585997,
          0.7517849745698162,
          0.7343946563063102,
          0.7123481854599671,
          0.6860808786242072,
          0.656099771562869
         ],
         "yaxis": "y"
        },
        {
         "legendgroup": "Старый лендинг",
         "marker": {
          "color": "#A6ACEC"
         },
         "mode": "lines",
         "name": "Старый лендинг",
         "showlegend": true,
         "type": "scatter",
         "x": [
          0.11745314442300164,
          0.11746561900142542,
          0.11747809357984919,
          0.11749056815827297,
          0.11750304273669673,
          0.11751551731512051,
          0.11752799189354429,
          0.11754046647196806,
          0.11755294105039184,
          0.11756541562881562,
          0.11757789020723938,
          0.11759036478566316,
          0.11760283936408693,
          0.11761531394251071,
          0.11762778852093449,
          0.11764026309935825,
          0.11765273767778203,
          0.11766521225620581,
          0.11767768683462958,
          0.11769016141305336,
          0.11770263599147712,
          0.1177151105699009,
          0.11772758514832468,
          0.11774005972674845,
          0.11775253430517223,
          0.117765008883596,
          0.11777748346201977,
          0.11778995804044355,
          0.11780243261886732,
          0.1178149071972911,
          0.11782738177571488,
          0.11783985635413864,
          0.11785233093256242,
          0.11786480551098619,
          0.11787728008940997,
          0.11788975466783375,
          0.11790222924625751,
          0.11791470382468129,
          0.11792717840310507,
          0.11793965298152884,
          0.11795212755995262,
          0.11796460213837638,
          0.11797707671680016,
          0.11798955129522394,
          0.1180020258736477,
          0.11801450045207149,
          0.11802697503049527,
          0.11803944960891903,
          0.11805192418734281,
          0.11806439876576658,
          0.11807687334419036,
          0.11808934792261414,
          0.1181018225010379,
          0.11811429707946168,
          0.11812677165788545,
          0.11813924623630923,
          0.118151720814733,
          0.11816419539315677,
          0.11817666997158055,
          0.11818914455000433,
          0.1182016191284281,
          0.11821409370685187,
          0.11822656828527564,
          0.11823904286369942,
          0.1182515174421232,
          0.11826399202054697,
          0.11827646659897074,
          0.11828894117739452,
          0.11830141575581829,
          0.11831389033424207,
          0.11832636491266584,
          0.11833883949108961,
          0.1183513140695134,
          0.11836378864793716,
          0.11837626322636094,
          0.1183887378047847,
          0.11840121238320848,
          0.11841368696163226,
          0.11842616154005603,
          0.11843863611847981,
          0.11845111069690359,
          0.11846358527532735,
          0.11847605985375113,
          0.1184885344321749,
          0.11850100901059868,
          0.11851348358902246,
          0.11852595816744622,
          0.11853843274587,
          0.11855090732429378,
          0.11856338190271755,
          0.11857585648114133,
          0.1185883310595651,
          0.11860080563798887,
          0.11861328021641265,
          0.11862575479483642,
          0.1186382293732602,
          0.11865070395168398,
          0.11866317853010774,
          0.11867565310853152,
          0.11868812768695529,
          0.11870060226537907,
          0.11871307684380285,
          0.11872555142222661,
          0.11873802600065039,
          0.11875050057907416,
          0.11876297515749794,
          0.11877544973592172,
          0.11878792431434548,
          0.11880039889276926,
          0.11881287347119304,
          0.11882534804961681,
          0.11883782262804059,
          0.11885029720646435,
          0.11886277178488813,
          0.11887524636331191,
          0.11888772094173568,
          0.11890019552015946,
          0.11891267009858324,
          0.118925144677007,
          0.11893761925543078,
          0.11895009383385455,
          0.11896256841227833,
          0.1189750429907021,
          0.11898751756912587,
          0.11899999214754965,
          0.11901246672597343,
          0.1190249413043972,
          0.11903741588282098,
          0.11904989046124474,
          0.11906236503966852,
          0.1190748396180923,
          0.11908731419651607,
          0.11909978877493985,
          0.11911226335336361,
          0.11912473793178739,
          0.11913721251021117,
          0.11914968708863494,
          0.11916216166705872,
          0.1191746362454825,
          0.11918711082390626,
          0.11919958540233004,
          0.1192120599807538,
          0.11922453455917759,
          0.11923700913760137,
          0.11924948371602513,
          0.11926195829444891,
          0.11927443287287269,
          0.11928690745129646,
          0.11929938202972024,
          0.119311856608144,
          0.11932433118656778,
          0.11933680576499156,
          0.11934928034341533,
          0.1193617549218391,
          0.11937422950026287,
          0.11938670407868665,
          0.11939917865711043,
          0.1194116532355342,
          0.11942412781395798,
          0.11943660239238175,
          0.11944907697080552,
          0.1194615515492293,
          0.11947402612765307,
          0.11948650070607685,
          0.11949897528450062,
          0.11951144986292439,
          0.11952392444134817,
          0.11953639901977195,
          0.11954887359819572,
          0.1195613481766195,
          0.11957382275504326,
          0.11958629733346704,
          0.11959877191189082,
          0.11961124649031459,
          0.11962372106873836,
          0.11963619564716213,
          0.11964867022558591,
          0.11966114480400969,
          0.11967361938243345,
          0.11968609396085723,
          0.11969856853928101,
          0.11971104311770478,
          0.11972351769612856,
          0.11973599227455232,
          0.1197484668529761,
          0.11976094143139988,
          0.11977341600982365,
          0.11978589058824743,
          0.11979836516667121,
          0.11981083974509497,
          0.11982331432351875,
          0.11983578890194252,
          0.1198482634803663,
          0.11986073805879008,
          0.11987321263721384,
          0.11988568721563762,
          0.1198981617940614,
          0.11991063637248517,
          0.11992311095090895,
          0.11993558552933271,
          0.1199480601077565,
          0.11996053468618027,
          0.11997300926460404,
          0.11998548384302782,
          0.11999795842145158,
          0.12001043299987536,
          0.12002290757829914,
          0.12003538215672291,
          0.12004785673514669,
          0.12006033131357047,
          0.12007280589199423,
          0.12008528047041801,
          0.12009775504884178,
          0.12011022962726556,
          0.12012270420568934,
          0.1201351787841131,
          0.12014765336253688,
          0.12016012794096066,
          0.12017260251938443,
          0.12018507709780821,
          0.12019755167623197,
          0.12021002625465575,
          0.12022250083307953,
          0.1202349754115033,
          0.12024744998992708,
          0.12025992456835086,
          0.12027239914677462,
          0.1202848737251984,
          0.12029734830362217,
          0.12030982288204595,
          0.12032229746046973,
          0.12033477203889349,
          0.12034724661731727,
          0.12035972119574104,
          0.12037219577416482,
          0.1203846703525886,
          0.12039714493101236,
          0.12040961950943614,
          0.12042209408785992,
          0.12043456866628369,
          0.12044704324470747,
          0.12045951782313123,
          0.12047199240155501,
          0.12048446697997879,
          0.12049694155840256,
          0.12050941613682634,
          0.1205218907152501,
          0.12053436529367388,
          0.12054683987209766,
          0.12055931445052143,
          0.1205717890289452,
          0.12058426360736899,
          0.12059673818579275,
          0.12060921276421653,
          0.1206216873426403,
          0.12063416192106408,
          0.12064663649948786,
          0.12065911107791162,
          0.1206715856563354,
          0.12068406023475918,
          0.12069653481318295,
          0.12070900939160673,
          0.12072148397003049,
          0.12073395854845427,
          0.12074643312687805,
          0.12075890770530182,
          0.1207713822837256,
          0.12078385686214937,
          0.12079633144057314,
          0.12080880601899692,
          0.12082128059742069,
          0.12083375517584447,
          0.12084622975426824,
          0.12085870433269201,
          0.12087117891111579,
          0.12088365348953956,
          0.12089612806796333,
          0.12090860264638711,
          0.12092107722481088,
          0.12093355180323466,
          0.12094602638165844,
          0.1209585009600822,
          0.12097097553850598,
          0.12098345011692975,
          0.12099592469535353,
          0.12100839927377731,
          0.12102087385220107,
          0.12103334843062485,
          0.12104582300904863,
          0.1210582975874724,
          0.12107077216589618,
          0.12108324674431994,
          0.12109572132274372,
          0.1211081959011675,
          0.12112067047959127,
          0.12113314505801505,
          0.12114561963643883,
          0.1211580942148626,
          0.12117056879328637,
          0.12118304337171014,
          0.12119551795013392,
          0.1212079925285577,
          0.12122046710698146,
          0.12123294168540524,
          0.12124541626382901,
          0.12125789084225279,
          0.12127036542067657,
          0.12128283999910033,
          0.12129531457752411,
          0.12130778915594789,
          0.12132026373437166,
          0.12133273831279544,
          0.1213452128912192,
          0.12135768746964298,
          0.12137016204806676,
          0.12138263662649053,
          0.12139511120491431,
          0.12140758578333807,
          0.12142006036176185,
          0.12143253494018563,
          0.1214450095186094,
          0.12145748409703318,
          0.12146995867545696,
          0.12148243325388072,
          0.1214949078323045,
          0.12150738241072828,
          0.12151985698915205,
          0.12153233156757583,
          0.12154480614599959,
          0.12155728072442337,
          0.12156975530284715,
          0.12158222988127092,
          0.1215947044596947,
          0.12160717903811846,
          0.12161965361654224,
          0.12163212819496602,
          0.12164460277338979,
          0.12165707735181357,
          0.12166955193023735,
          0.12168202650866111,
          0.12169450108708489,
          0.12170697566550866,
          0.12171945024393244,
          0.12173192482235622,
          0.12174439940077998,
          0.12175687397920376,
          0.12176934855762753,
          0.1217818231360513,
          0.12179429771447509,
          0.12180677229289885,
          0.12181924687132263,
          0.12183172144974641,
          0.12184419602817018,
          0.12185667060659396,
          0.12186914518501774,
          0.1218816197634415,
          0.12189409434186528,
          0.12190656892028905,
          0.12191904349871283,
          0.1219315180771366,
          0.12194399265556037,
          0.12195646723398415,
          0.12196894181240792,
          0.1219814163908317,
          0.12199389096925548,
          0.12200636554767924,
          0.12201884012610302,
          0.1220313147045268,
          0.12204378928295057,
          0.12205626386137435,
          0.12206873843979811,
          0.12208121301822189,
          0.12209368759664567,
          0.12210616217506944,
          0.12211863675349321,
          0.12213111133191698,
          0.12214358591034076,
          0.12215606048876454,
          0.1221685350671883,
          0.12218100964561208,
          0.12219348422403586,
          0.12220595880245963,
          0.12221843338088341,
          0.12223090795930719,
          0.12224338253773095,
          0.12225585711615473,
          0.1222683316945785,
          0.12228080627300228,
          0.12229328085142606,
          0.12230575542984982,
          0.1223182300082736,
          0.12233070458669737,
          0.12234317916512115,
          0.12235565374354493,
          0.1223681283219687,
          0.12238060290039247,
          0.12239307747881625,
          0.12240555205724002,
          0.1224180266356638,
          0.12243050121408756,
          0.12244297579251134,
          0.12245545037093512,
          0.12246792494935889,
          0.12248039952778267,
          0.12249287410620643,
          0.12250534868463021,
          0.122517823263054,
          0.12253029784147776,
          0.12254277241990154,
          0.12255524699832532,
          0.12256772157674908,
          0.12258019615517286,
          0.12259267073359663,
          0.12260514531202041,
          0.12261761989044419,
          0.12263009446886795,
          0.12264256904729173,
          0.1226550436257155,
          0.12266751820413928,
          0.12267999278256306,
          0.12269246736098682,
          0.1227049419394106,
          0.12271741651783438,
          0.12272989109625815,
          0.12274236567468193,
          0.12275484025310571,
          0.12276731483152947,
          0.12277978940995325,
          0.12279226398837702,
          0.1228047385668008,
          0.12281721314522458,
          0.12282968772364834,
          0.12284216230207212,
          0.12285463688049589,
          0.12286711145891967,
          0.12287958603734345,
          0.12289206061576721,
          0.12290453519419099,
          0.12291700977261477,
          0.12292948435103854,
          0.12294195892946232,
          0.12295443350788608,
          0.12296690808630986,
          0.12297938266473364,
          0.12299185724315741,
          0.12300433182158119,
          0.12301680640000495,
          0.12302928097842873,
          0.12304175555685251,
          0.12305423013527628,
          0.12306670471370006,
          0.12307917929212384,
          0.1230916538705476,
          0.12310412844897138,
          0.12311660302739516,
          0.12312907760581893,
          0.1231415521842427,
          0.12315402676266647,
          0.12316650134109025,
          0.12317897591951403,
          0.1231914504979378,
          0.12320392507636158,
          0.12321639965478534,
          0.12322887423320912,
          0.1232413488116329,
          0.12325382339005667,
          0.12326629796848045,
          0.12327877254690423,
          0.12329124712532799,
          0.12330372170375177,
          0.12331619628217554,
          0.12332867086059932,
          0.1233411454390231,
          0.12335362001744686,
          0.12336609459587064,
          0.1233785691742944,
          0.12339104375271819,
          0.12340351833114196,
          0.12341599290956573,
          0.12342846748798951,
          0.12344094206641329,
          0.12345341664483706,
          0.12346589122326083,
          0.1234783658016846,
          0.12349084038010838,
          0.12350331495853216,
          0.12351578953695592,
          0.1235282641153797,
          0.12354073869380348,
          0.12355321327222725,
          0.12356568785065103,
          0.1235781624290748,
          0.12359063700749857,
          0.12360311158592235,
          0.12361558616434612,
          0.1236280607427699,
          0.12364053532119368,
          0.12365300989961744,
          0.12366548447804122,
          0.12367795905646499
         ],
         "xaxis": "x",
         "y": [
          1.347248913071899,
          1.4325864278230442,
          1.518931158040428,
          1.6065315972356988,
          1.6957513909985922,
          1.7870579201046441,
          1.8810053932407582,
          1.9782134667638624,
          2.079342750255716,
          2.1850688090594996,
          2.296056415544937,
          2.4129358148991806,
          2.536282653821093,
          2.6666029769926873,
          2.8043243420039974,
          2.9497936629317847,
          3.1032818974191723,
          3.26499517800424,
          3.4350914935369903,
          3.6137015877277086,
          3.800952392273046,
          3.996991078496311,
          4.202007712671711,
          4.416254545548675,
          4.640060155287687,
          4.873836984578711,
          5.118081247501112,
          5.373364702389507,
          5.640318360326753,
          5.919608787873749,
          6.21190822860394,
          6.517860273288945,
          6.838043218419723,
          7.1729335377801915,
          7.522872029581703,
          7.888035178338977,
          8.26841408193582,
          8.663802945957318,
          9.073798655245175,
          9.497812322226393,
          9.935093016488882,
          10.384763140698102,
          10.845864178797132,
          11.31741084972637,
          11.798451098627929,
          12.288128888319699,
          12.785746450345211,
          13.290822541218597,
          13.803143337948251,
          14.322802897386524,
          14.850230582974174,
          15.386203504087819,
          15.931842780477915,
          16.488593291294485,
          17.05818744339761,
          17.642594343029327,
          18.24395652589462,
          18.864517045820435,
          19.506540202214747,
          20.172229473887672,
          20.863646306892583,
          21.582633276896814,
          22.33074482681739,
          23.109188296052103,
          23.918777348028808,
          24.759899215849078,
          25.63249647358891,
          26.53606335593961,
          27.46965603929837,
          28.43191580260935,
          29.421103633574315,
          30.43514464772661,
          31.471680640798372,
          32.52812917981911,
          33.60174782277998,
          34.6897022979909,
          35.789137725087414,
          36.89725217277213,
          38.01137198340186,
          39.12902832210847,
          40.248034314396754,
          41.36656192471344,
          42.4832174200067,
          43.59711389255884,
          44.7079389318447,
          45.816015186658944,
          46.922351295893,
          48.02868053043426,
          49.13748450811266,
          50.251999530738104,
          51.37620344229041,
          52.51478140040785,
          53.67306955877767,
          54.856976339068304,
          56.07288169228152,
          57.327515480771964,
          58.62781683459765,
          59.98077704130347,
          61.393269219235364,
          62.87186870943546,
          64.42266880839864,
          66.0510971530032,
          67.76173874488472,
          69.55817222723003,
          71.4428265427989,
          73.41686542557409,
          75.48010721207875,
          77.63098709948927,
          79.86656813238812,
          82.18260579949012,
          84.57366913790567,
          87.03331870026294,
          89.55433872723928,
          92.12901753618274,
          94.74946669606574,
          97.40796626708544,
          100.0973205226014,
          102.81120642605076,
          105.54449596367846,
          108.29353343711645,
          111.0563501209358,
          113.832801311438,
          116.62461464612204,
          119.43534345902299,
          122.27022455332634,
          125.1359457353318,
          128.04033432603686,
          130.99198319275203,
          133.99983519042345,
          137.07274989713915,
          140.21907789305322,
          143.4462674131026,
          146.76052598875776,
          150.16655581758755,
          153.66737633676527,
          157.26424122150127,
          160.95665026607534,
          164.74244986370795,
          168.61800961794358,
          172.5784574843461,
          176.6179521646668,
          180.72996954269243,
          184.90757990379169,
          189.14369450201045,
          193.4312635603747,
          197.76341270063642,
          202.13351067849032,
          206.53516765388724,
          210.96216952825878,
          215.40835961911154,
          219.86748366234025,
          224.33301746889322,
          228.797998272236,
          233.25488077566823,
          237.69543717515975,
          242.1107171558176,
          246.49107931455703,
          250.82630001325433,
          255.10575973678766,
          259.3187010639444,
          263.4545467909377,
          267.50326196938715,
          271.45573996006533,
          275.30419029930675,
          279.0425053676776,
          282.6665835770803,
          286.1745889875013,
          289.56713076886933,
          292.8473504974208,
          296.0209106145761,
          299.09588313224896,
          302.0825434698817,
          304.99307978294013,
          307.84123293816884,
          310.64188609608476,
          313.4106254247107,
          316.16329461512294,
          318.9155655122684,
          321.6825453258645,
          324.47843765839957,
          327.3162701934702,
          330.2076966298736,
          333.16287470160296,
          336.19041631846176,
          339.29740044543354,
          342.4894347477151,
          345.77074865260965,
          349.1442986249593,
          352.6118663143349,
          356.1741318669715,
          359.83070801217644,
          363.58012529234367,
          367.4197646329062,
          371.3457398605048,
          375.3527392227577,
          379.4338408651006,
          383.5803220327126,
          387.78148501873466,
          392.024524225877,
          396.29445795601373,
          400.5741456754611,
          404.84440668698926,
          409.0842497068622,
          413.27121526997576,
          417.381824744656,
          421.392121660703,
          425.2782836687699,
          429.0172773371544,
          432.58752363555794,
          435.969539703182,
          439.1465225399153,
          442.1048426112939,
          444.8344198679327,
          447.32896104071716,
          449.58604484592684,
          451.60705038836454,
          453.3969329980645,
          454.96386037892074,
          456.3187297181249,
          457.4745928056938,
          458.44602084816756,
          459.2484432633515,
          459.89749518860566,
          460.4084067494435,
          460.7954634843158,
          461.07156200202013,
          461.2478783588846,
          461.3336592562861,
          461.33613848550266,
          461.2605735974691,
          461.11039102431647,
          460.8874222360505,
          460.59220929097455,
          460.2243555334114,
          459.78289628367213,
          459.26666510898855,
          458.6746335025012,
          458.00620527812333,
          457.2614513875663,
          456.44127581510764,
          455.54750832418404,
          454.58292475277443,
          453.551199958733,
          452.45680214251996,
          451.30483994363203,
          450.10087532634384,
          448.8507158365511,
          447.56019940348324,
          446.2349836260929,
          444.88034962432306,
          443.50102828151404,
          442.1010542954892,
          440.6836511179902,
          439.2511477873309,
          437.80492699026155,
          436.3454025088647,
          434.8720235360328,
          433.3833031358456,
          431.87686828691875,
          430.3495293423833,
          428.7973672130777,
          427.2158369729097,
          425.59988675894624,
          423.9440906924377,
          422.24279403196266,
          420.4902678969946,
          418.6808697432567,
          416.8092044594217,
          414.87027966103045,
          412.8596476796936,
          410.7735260825589,
          408.60888848534614,
          406.3635180720359,
          404.03601766880826,
          401.62577242405195,
          399.13286401837183,
          396.5579386863657,
          393.9020349236019,
          391.1663802778701,
          388.35216976220653,
          385.4603408664464,
          382.4913616122961,
          379.4450483918164,
          376.32042933979966,
          373.115666713323,
          369.8280482960449,
          366.45405342719266,
          362.98949418588495,
          359.4297269188273,
          355.7699240993904,
          352.00539186742304,
          348.131914904935,
          344.14610786683545,
          340.045751623561,
          335.83009317781665,
          331.5000902550192,
          327.0585850704845,
          322.51039636350066,
          317.862324086125,
          313.1230667110867,
          308.3030565298583,
          303.41422312420605,
          298.4696990518392,
          293.4834844268676,
          288.4700883572252,
          283.44416511305116,
          278.4201615620749,
          273.41199004678776,
          268.4327378067761,
          263.494420621365,
          258.6077849230372,
          253.78215953319943,
          249.02535565046216,
          244.34361193480856,
          239.74158052847932,
          235.2223495800703,
          230.78749814733305,
          226.43718003429447,
          222.1702339277847,
          217.9843178977991,
          213.87606671299304,
          209.84127036001303,
          205.87507158845543,
          201.97217926564966,
          198.12709293537623,
          194.3343324150307,
          190.58866476265268,
          186.88531973576852,
          183.2201841648747,
          179.58996564523073,
          175.99231671005663,
          172.42591220102778,
          168.89047482618525,
          165.38674673804866,
          161.9164081575786,
          158.4819473535287,
          155.0864893852473,
          151.73359366761534,
          148.42703239467824,
          145.17056299829036,
          141.96770802955294,
          138.82155512437978,
          135.7345881205916,
          132.7085580752202,
          129.74440008463236,
          126.84219867137338,
          124.0012013190236,
          121.2198767499165,
          118.49601196248715,
          115.82684004137313,
          113.20918943363205,
          110.63964479530316,
          108.11470963756365,
          105.63096176923729,
          103.18519382327193,
          100.77453281980868,
          98.39653459205269,
          96.04925081895828,
          93.73126822128559,
          91.44172106430783,
          89.18027938469315,
          86.94711627580241,
          84.74285811696298,
          82.56852184588749,
          80.42544330322445,
          78.31520039469991,
          76.2395343965642,
          74.20027224743387,
          72.19925218505153,
          70.23825464411476,
          68.3189399536092,
          66.44279406240103,
          64.61108326620135,
          62.82481868163813,
          61.08473098356586,
          59.391255661159846,
          57.744528735857195,
          56.14439251264653,
          54.59041051277949,
          53.081890285292594,
          51.617912354065396,
          50.19736317416,
          48.818969696977184,
          47.48133302653366,
          46.18295872685228,
          44.922281635393226,
          43.697683550189744,
          42.50750286645056,
          41.35003609524941,
          40.22353213447871,
          39.12618109636144,
          38.05610033330316,
          37.01132095133024,
          35.98977847468877,
          34.98931136170528,
          34.00767073473236,
          33.04254397292042,
          32.09159376020333,
          31.152512853067734,
          30.223093336581876,
          29.301307600048567,
          28.38539682648406,
          27.473961593358023,
          26.566048353101237,
          25.661225200503534,
          24.75964050208746,
          23.86205867539542,
          22.969868629744866,
          22.085062032303135,
          21.210180520348658,
          20.348233087219914,
          19.50258695405613,
          18.676837128970636,
          17.874661392416098,
          17.09966850486088,
          16.355247925092055,
          15.644429218842594,
          14.96975864455611,
          14.33319919221187,
          13.736058731418611,
          13.1789490364589,
          12.661776456689259,
          12.183763050662945,
          11.743495249662699,
          11.33899568393929,
          10.967812781090572,
          10.627122178243397,
          10.313833883581122,
          10.024699444007208,
          9.756414056814284,
          9.505709512047899,
          9.269434962832563,
          9.044623684514157,
          8.828545098810249,
          8.618742321191531,
          8.413056275984038,
          8.209637977515984,
          8.006950887046433,
          7.803765338456155,
          7.599146915207731,
          7.392440405592444,
          7.1832506191496055,
          6.971420971859097,
          6.7570103938378665,
          6.540268823621281,
          6.321611357496937,
          6.101591035736899,
          5.88087027017593,
          5.660191036186133,
          5.440344142589853,
          5.222138123869551,
          5.006368534908414,
          4.793788634322016,
          4.585082586982779,
          4.380842375079044,
          4.181549564666139,
          3.9875629262387084,
          3.799112659223845,
          3.6163016374642307,
          3.4391137002606835,
          3.2674285920914685,
          3.10104273777246,
          2.9396946627117755,
          2.7830935611014804,
          2.630949303583852,
          2.483002077058212,
          2.339049870216049,
          2.1989721563238342,
          2.0627483673297298,
          1.9304700800632666,
          1.8023462197113218,
          1.6787009982792358,
          1.559964716567801,
          1.446657939942459,
          1.3393698883554057,
          1.238732143657255,
          1.1453889633870407,
          1.0599655983005911,
          0.9830360454087523,
          0.9150916384616848,
          0.856511795566098,
          0.8075381215999188,
          0.7682529128643291,
          0.7385629420638583,
          0.7181892191566364,
          0.7066632305629633,
          0.7033299557819808,
          0.7073577453765235,
          0.7177549163722239,
          0.7333926808587932,
          0.7530337744360132,
          0.7753659004066641,
          0.7990388646240978,
          0.8227040595138627,
          0.8450547811645831,
          0.864865748162406,
          0.8810301509919704,
          0.892592608415756,
          0.8987765484551048,
          0.8990047652947193
         ],
         "yaxis": "y"
        }
       ],
       "layout": {
        "barmode": "overlay",
        "height": 650,
        "hovermode": "closest",
        "legend": {
         "traceorder": "reversed"
        },
        "template": {
         "data": {
          "bar": [
           {
            "error_x": {
             "color": "#2a3f5f"
            },
            "error_y": {
             "color": "#2a3f5f"
            },
            "marker": {
             "line": {
              "color": "#E5ECF6",
              "width": 0.5
             },
             "pattern": {
              "fillmode": "overlay",
              "size": 10,
              "solidity": 0.2
             }
            },
            "type": "bar"
           }
          ],
          "barpolar": [
           {
            "marker": {
             "line": {
              "color": "#E5ECF6",
              "width": 0.5
             },
             "pattern": {
              "fillmode": "overlay",
              "size": 10,
              "solidity": 0.2
             }
            },
            "type": "barpolar"
           }
          ],
          "carpet": [
           {
            "aaxis": {
             "endlinecolor": "#2a3f5f",
             "gridcolor": "white",
             "linecolor": "white",
             "minorgridcolor": "white",
             "startlinecolor": "#2a3f5f"
            },
            "baxis": {
             "endlinecolor": "#2a3f5f",
             "gridcolor": "white",
             "linecolor": "white",
             "minorgridcolor": "white",
             "startlinecolor": "#2a3f5f"
            },
            "type": "carpet"
           }
          ],
          "choropleth": [
           {
            "colorbar": {
             "outlinewidth": 0,
             "ticks": ""
            },
            "type": "choropleth"
           }
          ],
          "contour": [
           {
            "colorbar": {
             "outlinewidth": 0,
             "ticks": ""
            },
            "colorscale": [
             [
              0,
              "#0d0887"
             ],
             [
              0.1111111111111111,
              "#46039f"
             ],
             [
              0.2222222222222222,
              "#7201a8"
             ],
             [
              0.3333333333333333,
              "#9c179e"
             ],
             [
              0.4444444444444444,
              "#bd3786"
             ],
             [
              0.5555555555555556,
              "#d8576b"
             ],
             [
              0.6666666666666666,
              "#ed7953"
             ],
             [
              0.7777777777777778,
              "#fb9f3a"
             ],
             [
              0.8888888888888888,
              "#fdca26"
             ],
             [
              1,
              "#f0f921"
             ]
            ],
            "type": "contour"
           }
          ],
          "contourcarpet": [
           {
            "colorbar": {
             "outlinewidth": 0,
             "ticks": ""
            },
            "type": "contourcarpet"
           }
          ],
          "heatmap": [
           {
            "colorbar": {
             "outlinewidth": 0,
             "ticks": ""
            },
            "colorscale": [
             [
              0,
              "#0d0887"
             ],
             [
              0.1111111111111111,
              "#46039f"
             ],
             [
              0.2222222222222222,
              "#7201a8"
             ],
             [
              0.3333333333333333,
              "#9c179e"
             ],
             [
              0.4444444444444444,
              "#bd3786"
             ],
             [
              0.5555555555555556,
              "#d8576b"
             ],
             [
              0.6666666666666666,
              "#ed7953"
             ],
             [
              0.7777777777777778,
              "#fb9f3a"
             ],
             [
              0.8888888888888888,
              "#fdca26"
             ],
             [
              1,
              "#f0f921"
             ]
            ],
            "type": "heatmap"
           }
          ],
          "heatmapgl": [
           {
            "colorbar": {
             "outlinewidth": 0,
             "ticks": ""
            },
            "colorscale": [
             [
              0,
              "#0d0887"
             ],
             [
              0.1111111111111111,
              "#46039f"
             ],
             [
              0.2222222222222222,
              "#7201a8"
             ],
             [
              0.3333333333333333,
              "#9c179e"
             ],
             [
              0.4444444444444444,
              "#bd3786"
             ],
             [
              0.5555555555555556,
              "#d8576b"
             ],
             [
              0.6666666666666666,
              "#ed7953"
             ],
             [
              0.7777777777777778,
              "#fb9f3a"
             ],
             [
              0.8888888888888888,
              "#fdca26"
             ],
             [
              1,
              "#f0f921"
             ]
            ],
            "type": "heatmapgl"
           }
          ],
          "histogram": [
           {
            "marker": {
             "pattern": {
              "fillmode": "overlay",
              "size": 10,
              "solidity": 0.2
             }
            },
            "type": "histogram"
           }
          ],
          "histogram2d": [
           {
            "colorbar": {
             "outlinewidth": 0,
             "ticks": ""
            },
            "colorscale": [
             [
              0,
              "#0d0887"
             ],
             [
              0.1111111111111111,
              "#46039f"
             ],
             [
              0.2222222222222222,
              "#7201a8"
             ],
             [
              0.3333333333333333,
              "#9c179e"
             ],
             [
              0.4444444444444444,
              "#bd3786"
             ],
             [
              0.5555555555555556,
              "#d8576b"
             ],
             [
              0.6666666666666666,
              "#ed7953"
             ],
             [
              0.7777777777777778,
              "#fb9f3a"
             ],
             [
              0.8888888888888888,
              "#fdca26"
             ],
             [
              1,
              "#f0f921"
             ]
            ],
            "type": "histogram2d"
           }
          ],
          "histogram2dcontour": [
           {
            "colorbar": {
             "outlinewidth": 0,
             "ticks": ""
            },
            "colorscale": [
             [
              0,
              "#0d0887"
             ],
             [
              0.1111111111111111,
              "#46039f"
             ],
             [
              0.2222222222222222,
              "#7201a8"
             ],
             [
              0.3333333333333333,
              "#9c179e"
             ],
             [
              0.4444444444444444,
              "#bd3786"
             ],
             [
              0.5555555555555556,
              "#d8576b"
             ],
             [
              0.6666666666666666,
              "#ed7953"
             ],
             [
              0.7777777777777778,
              "#fb9f3a"
             ],
             [
              0.8888888888888888,
              "#fdca26"
             ],
             [
              1,
              "#f0f921"
             ]
            ],
            "type": "histogram2dcontour"
           }
          ],
          "mesh3d": [
           {
            "colorbar": {
             "outlinewidth": 0,
             "ticks": ""
            },
            "type": "mesh3d"
           }
          ],
          "parcoords": [
           {
            "line": {
             "colorbar": {
              "outlinewidth": 0,
              "ticks": ""
             }
            },
            "type": "parcoords"
           }
          ],
          "pie": [
           {
            "automargin": true,
            "type": "pie"
           }
          ],
          "scatter": [
           {
            "fillpattern": {
             "fillmode": "overlay",
             "size": 10,
             "solidity": 0.2
            },
            "type": "scatter"
           }
          ],
          "scatter3d": [
           {
            "line": {
             "colorbar": {
              "outlinewidth": 0,
              "ticks": ""
             }
            },
            "marker": {
             "colorbar": {
              "outlinewidth": 0,
              "ticks": ""
             }
            },
            "type": "scatter3d"
           }
          ],
          "scattercarpet": [
           {
            "marker": {
             "colorbar": {
              "outlinewidth": 0,
              "ticks": ""
             }
            },
            "type": "scattercarpet"
           }
          ],
          "scattergeo": [
           {
            "marker": {
             "colorbar": {
              "outlinewidth": 0,
              "ticks": ""
             }
            },
            "type": "scattergeo"
           }
          ],
          "scattergl": [
           {
            "marker": {
             "colorbar": {
              "outlinewidth": 0,
              "ticks": ""
             }
            },
            "type": "scattergl"
           }
          ],
          "scattermapbox": [
           {
            "marker": {
             "colorbar": {
              "outlinewidth": 0,
              "ticks": ""
             }
            },
            "type": "scattermapbox"
           }
          ],
          "scatterpolar": [
           {
            "marker": {
             "colorbar": {
              "outlinewidth": 0,
              "ticks": ""
             }
            },
            "type": "scatterpolar"
           }
          ],
          "scatterpolargl": [
           {
            "marker": {
             "colorbar": {
              "outlinewidth": 0,
              "ticks": ""
             }
            },
            "type": "scatterpolargl"
           }
          ],
          "scatterternary": [
           {
            "marker": {
             "colorbar": {
              "outlinewidth": 0,
              "ticks": ""
             }
            },
            "type": "scatterternary"
           }
          ],
          "surface": [
           {
            "colorbar": {
             "outlinewidth": 0,
             "ticks": ""
            },
            "colorscale": [
             [
              0,
              "#0d0887"
             ],
             [
              0.1111111111111111,
              "#46039f"
             ],
             [
              0.2222222222222222,
              "#7201a8"
             ],
             [
              0.3333333333333333,
              "#9c179e"
             ],
             [
              0.4444444444444444,
              "#bd3786"
             ],
             [
              0.5555555555555556,
              "#d8576b"
             ],
             [
              0.6666666666666666,
              "#ed7953"
             ],
             [
              0.7777777777777778,
              "#fb9f3a"
             ],
             [
              0.8888888888888888,
              "#fdca26"
             ],
             [
              1,
              "#f0f921"
             ]
            ],
            "type": "surface"
           }
          ],
          "table": [
           {
            "cells": {
             "fill": {
              "color": "#EBF0F8"
             },
             "line": {
              "color": "white"
             }
            },
            "header": {
             "fill": {
              "color": "#C8D4E3"
             },
             "line": {
              "color": "white"
             }
            },
            "type": "table"
           }
          ]
         },
         "layout": {
          "annotationdefaults": {
           "arrowcolor": "#2a3f5f",
           "arrowhead": 0,
           "arrowwidth": 1
          },
          "autotypenumbers": "strict",
          "coloraxis": {
           "colorbar": {
            "outlinewidth": 0,
            "ticks": ""
           }
          },
          "colorscale": {
           "diverging": [
            [
             0,
             "#8e0152"
            ],
            [
             0.1,
             "#c51b7d"
            ],
            [
             0.2,
             "#de77ae"
            ],
            [
             0.3,
             "#f1b6da"
            ],
            [
             0.4,
             "#fde0ef"
            ],
            [
             0.5,
             "#f7f7f7"
            ],
            [
             0.6,
             "#e6f5d0"
            ],
            [
             0.7,
             "#b8e186"
            ],
            [
             0.8,
             "#7fbc41"
            ],
            [
             0.9,
             "#4d9221"
            ],
            [
             1,
             "#276419"
            ]
           ],
           "sequential": [
            [
             0,
             "#0d0887"
            ],
            [
             0.1111111111111111,
             "#46039f"
            ],
            [
             0.2222222222222222,
             "#7201a8"
            ],
            [
             0.3333333333333333,
             "#9c179e"
            ],
            [
             0.4444444444444444,
             "#bd3786"
            ],
            [
             0.5555555555555556,
             "#d8576b"
            ],
            [
             0.6666666666666666,
             "#ed7953"
            ],
            [
             0.7777777777777778,
             "#fb9f3a"
            ],
            [
             0.8888888888888888,
             "#fdca26"
            ],
            [
             1,
             "#f0f921"
            ]
           ],
           "sequentialminus": [
            [
             0,
             "#0d0887"
            ],
            [
             0.1111111111111111,
             "#46039f"
            ],
            [
             0.2222222222222222,
             "#7201a8"
            ],
            [
             0.3333333333333333,
             "#9c179e"
            ],
            [
             0.4444444444444444,
             "#bd3786"
            ],
            [
             0.5555555555555556,
             "#d8576b"
            ],
            [
             0.6666666666666666,
             "#ed7953"
            ],
            [
             0.7777777777777778,
             "#fb9f3a"
            ],
            [
             0.8888888888888888,
             "#fdca26"
            ],
            [
             1,
             "#f0f921"
            ]
           ]
          },
          "colorway": [
           "#636efa",
           "#EF553B",
           "#00cc96",
           "#ab63fa",
           "#FFA15A",
           "#19d3f3",
           "#FF6692",
           "#B6E880",
           "#FF97FF",
           "#FECB52"
          ],
          "font": {
           "color": "#2a3f5f"
          },
          "geo": {
           "bgcolor": "white",
           "lakecolor": "white",
           "landcolor": "#E5ECF6",
           "showlakes": true,
           "showland": true,
           "subunitcolor": "white"
          },
          "hoverlabel": {
           "align": "left"
          },
          "hovermode": "closest",
          "mapbox": {
           "style": "light"
          },
          "paper_bgcolor": "white",
          "plot_bgcolor": "#E5ECF6",
          "polar": {
           "angularaxis": {
            "gridcolor": "white",
            "linecolor": "white",
            "ticks": ""
           },
           "bgcolor": "#E5ECF6",
           "radialaxis": {
            "gridcolor": "white",
            "linecolor": "white",
            "ticks": ""
           }
          },
          "scene": {
           "xaxis": {
            "backgroundcolor": "#E5ECF6",
            "gridcolor": "white",
            "gridwidth": 2,
            "linecolor": "white",
            "showbackground": true,
            "ticks": "",
            "zerolinecolor": "white"
           },
           "yaxis": {
            "backgroundcolor": "#E5ECF6",
            "gridcolor": "white",
            "gridwidth": 2,
            "linecolor": "white",
            "showbackground": true,
            "ticks": "",
            "zerolinecolor": "white"
           },
           "zaxis": {
            "backgroundcolor": "#E5ECF6",
            "gridcolor": "white",
            "gridwidth": 2,
            "linecolor": "white",
            "showbackground": true,
            "ticks": "",
            "zerolinecolor": "white"
           }
          },
          "shapedefaults": {
           "line": {
            "color": "#2a3f5f"
           }
          },
          "ternary": {
           "aaxis": {
            "gridcolor": "white",
            "linecolor": "white",
            "ticks": ""
           },
           "baxis": {
            "gridcolor": "white",
            "linecolor": "white",
            "ticks": ""
           },
           "bgcolor": "#E5ECF6",
           "caxis": {
            "gridcolor": "white",
            "linecolor": "white",
            "ticks": ""
           }
          },
          "title": {
           "x": 0.05
          },
          "xaxis": {
           "automargin": true,
           "gridcolor": "white",
           "linecolor": "white",
           "ticks": "",
           "title": {
            "standoff": 15
           },
           "zerolinecolor": "white",
           "zerolinewidth": 2
          },
          "yaxis": {
           "automargin": true,
           "gridcolor": "white",
           "linecolor": "white",
           "ticks": "",
           "title": {
            "standoff": 15
           },
           "zerolinecolor": "white",
           "zerolinewidth": 2
          }
         }
        },
        "title": {
         "text": "Распределние средних"
        },
        "width": 1000,
        "xaxis": {
         "anchor": "y2",
         "domain": [
          0,
          1
         ],
         "zeroline": false
        },
        "yaxis": {
         "anchor": "free",
         "domain": [
          0,
          1
         ],
         "position": 0
        }
       }
      }
     },
     "metadata": {},
     "output_type": "display_data"
    },
    {
     "data": {
      "image/png": "[encoded data removed]",
      "text/plain": [
       "<IPython.core.display.Image object>"
      ]
     },
     "metadata": {
      "image/png": {
       "width": 800
      }
     },
     "output_type": "display_data"
    }
   ],
   "source": [
    "hist_data = [boot_1d.new_page, boot_1d.old_page]\n",
    "\n",
    "group_labels = ['Новый лендинг', 'Старый лендинг']\n",
    "colors = ['#A56CC1', '#A6ACEC']\n",
    "\n",
    "fig = ff.create_distplot(hist_data, group_labels, colors=colors, show_hist=False, bin_size=.01, show_rug=False)\n",
    "\n",
    "fig.update_layout(height=650, width=1000, title_text='Распределние средних')\n",
    "fig.show()\n",
    "\n",
    "display(Image(filename='img/avg_distribution.png', width=800))"
   ]
  },
  {
   "attachments": {},
   "cell_type": "markdown",
   "metadata": {},
   "source": [
    "Для обеих версий посадочной страницы мы получили распределение, похожее на нормальное."
   ]
  },
  {
   "attachments": {},
   "cell_type": "markdown",
   "metadata": {},
   "source": [
    "В колонке diff посчитаем разницу между средними и посмотрим на распределение."
   ]
  },
  {
   "cell_type": "code",
   "execution_count": 26,
   "metadata": {},
   "outputs": [
    {
     "data": {
      "application/vnd.plotly.v1+json": {
       "config": {
        "plotlyServerURL": "https://plot.ly"
       },
       "data": [
        {
         "legendgroup": "Разница средних",
         "marker": {
          "color": "rgb(31, 119, 180)"
         },
         "mode": "lines",
         "name": "Разница средних",
         "showlegend": true,
         "type": "scatter",
         "x": [
          -0.00629940773823412,
          -0.0062815547341496195,
          -0.00626370173006512,
          -0.00624584872598062,
          -0.006227995721896121,
          -0.006210142717811621,
          -0.006192289713727122,
          -0.006174436709642622,
          -0.0061565837055581225,
          -0.0061387307014736225,
          -0.006120877697389123,
          -0.006103024693304623,
          -0.006085171689220124,
          -0.006067318685135624,
          -0.006049465681051125,
          -0.006031612676966625,
          -0.0060137596728821255,
          -0.005995906668797625,
          -0.005978053664713126,
          -0.005960200660628626,
          -0.005942347656544127,
          -0.005924494652459627,
          -0.005906641648375128,
          -0.005888788644290628,
          -0.005870935640206128,
          -0.005853082636121628,
          -0.005835229632037129,
          -0.005817376627952629,
          -0.00579952362386813,
          -0.00578167061978363,
          -0.005763817615699131,
          -0.005745964611614631,
          -0.005728111607530131,
          -0.005710258603445631,
          -0.005692405599361132,
          -0.005674552595276632,
          -0.005656699591192133,
          -0.005638846587107633,
          -0.005620993583023134,
          -0.0056031405789386335,
          -0.005585287574854134,
          -0.005567434570769634,
          -0.005549581566685135,
          -0.005531728562600635,
          -0.005513875558516136,
          -0.005496022554431636,
          -0.0054781695503471365,
          -0.0054603165462626365,
          -0.005442463542178137,
          -0.005424610538093637,
          -0.005406757534009138,
          -0.005388904529924638,
          -0.005371051525840139,
          -0.005353198521755639,
          -0.0053353455176711395,
          -0.005317492513586639,
          -0.00529963950950214,
          -0.00528178650541764,
          -0.005263933501333141,
          -0.005246080497248641,
          -0.005228227493164142,
          -0.005210374489079642,
          -0.005192521484995142,
          -0.005174668480910642,
          -0.005156815476826143,
          -0.005138962472741643,
          -0.005121109468657144,
          -0.005103256464572644,
          -0.005085403460488145,
          -0.005067550456403645,
          -0.005049697452319145,
          -0.005031844448234645,
          -0.005013991444150146,
          -0.004996138440065646,
          -0.004978285435981147,
          -0.004960432431896647,
          -0.004942579427812148,
          -0.0049247264237276475,
          -0.004906873419643148,
          -0.004889020415558648,
          -0.004871167411474149,
          -0.004853314407389649,
          -0.00483546140330515,
          -0.00481760839922065,
          -0.0047997553951361505,
          -0.0047819023910516505,
          -0.004764049386967151,
          -0.004746196382882651,
          -0.004728343378798152,
          -0.004710490374713652,
          -0.004692637370629153,
          -0.004674784366544653,
          -0.0046569313624601535,
          -0.004639078358375653,
          -0.004621225354291153,
          -0.004603372350206654,
          -0.004585519346122155,
          -0.004567666342037655,
          -0.004549813337953155,
          -0.004531960333868656,
          -0.004514107329784156,
          -0.004496254325699656,
          -0.004478401321615156,
          -0.004460548317530657,
          -0.004442695313446158,
          -0.004424842309361658,
          -0.004406989305277158,
          -0.004389136301192659,
          -0.004371283297108159,
          -0.004353430293023659,
          -0.004335577288939159,
          -0.00431772428485466,
          -0.004299871280770161,
          -0.004282018276685661,
          -0.004264165272601162,
          -0.0042463122685166615,
          -0.004228459264432162,
          -0.004210606260347662,
          -0.004192753256263162,
          -0.004174900252178663,
          -0.004157047248094164,
          -0.004139194244009664,
          -0.0041213412399251645,
          -0.0041034882358406645,
          -0.004085635231756165,
          -0.004067782227671665,
          -0.004049929223587165,
          -0.004032076219502666,
          -0.004014223215418167,
          -0.003996370211333667,
          -0.003978517207249167,
          -0.003960664203164667,
          -0.003942811199080168,
          -0.003924958194995668,
          -0.003907105190911168,
          -0.003889252186826669,
          -0.0038713991827421692,
          -0.0038535461786576696,
          -0.00383569317457317,
          -0.0038178401704886704,
          -0.0037999871664041707,
          -0.003782134162319671,
          -0.003764281158235171,
          -0.003746428154150672,
          -0.003728575150066172,
          -0.0037107221459816726,
          -0.003692869141897173,
          -0.0036750161378126733,
          -0.0036571631337281737,
          -0.003639310129643674,
          -0.003621457125559174,
          -0.0036036041214746748,
          -0.003585751117390175,
          -0.0035678981133056755,
          -0.003550045109221176,
          -0.0035321921051366762,
          -0.0035143391010521766,
          -0.003496486096967677,
          -0.003478633092883177,
          -0.0034607800887986773,
          -0.003442927084714178,
          -0.0034250740806296785,
          -0.003407221076545179,
          -0.0033893680724606788,
          -0.0033715150683761796,
          -0.00335366206429168,
          -0.00333580906020718,
          -0.0033179560561226802,
          -0.003300103052038181,
          -0.0032822500479536814,
          -0.0032643970438691818,
          -0.0032465440397846817,
          -0.0032286910357001825,
          -0.003210838031615683,
          -0.003192985027531183,
          -0.003175132023446683,
          -0.003157279019362184,
          -0.0031394260152776843,
          -0.0031215730111931847,
          -0.0031037200071086847,
          -0.0030858670030241855,
          -0.003068013998939686,
          -0.0030501609948551858,
          -0.003032307990770686,
          -0.003014454986686187,
          -0.0029966019826016873,
          -0.0029787489785171877,
          -0.0029608959744326876,
          -0.002943042970348188,
          -0.0029251899662636888,
          -0.0029073369621791887,
          -0.002889483958094689,
          -0.0028716309540101894,
          -0.0028537779499256902,
          -0.0028359249458411906,
          -0.0028180719417566905,
          -0.002800218937672191,
          -0.0027823659335876917,
          -0.0027645129295031916,
          -0.002746659925418692,
          -0.0027288069213341924,
          -0.002710953917249693,
          -0.0026931009131651936,
          -0.0026752479090806935,
          -0.002657394904996194,
          -0.0026395419009116947,
          -0.0026216888968271946,
          -0.002603835892742695,
          -0.0025859828886581953,
          -0.002568129884573696,
          -0.0025502768804891965,
          -0.0025324238764046964,
          -0.002514570872320197,
          -0.0024967178682356976,
          -0.0024788648641511975,
          -0.002461011860066698,
          -0.0024431588559821983,
          -0.002425305851897699,
          -0.0024074528478131994,
          -0.002389599843728699,
          -0.0023717468396441998,
          -0.0023538938355597006,
          -0.0023360408314752005,
          -0.0023181878273907004,
          -0.0023003348233062012,
          -0.002282481819221702,
          -0.002264628815137202,
          -0.0022467758110527028,
          -0.0022289228069682036,
          -0.0022110698028837026,
          -0.0021932167987992034,
          -0.0021753637947147034,
          -0.002157510790630204,
          -0.002139657786545705,
          -0.002121804782461205,
          -0.0021039517783767057,
          -0.0020860987742922056,
          -0.0020682457702077056,
          -0.0020503927661232064,
          -0.0020325397620387063,
          -0.002014686757954207,
          -0.001996833753869708,
          -0.001978980749785208,
          -0.0019611277457007087,
          -0.0019432747416162095,
          -0.0019254217375317085,
          -0.0019075687334472093,
          -0.0018897157293627093,
          -0.00187186272527821,
          -0.0018540097211937109,
          -0.0018361567171092108,
          -0.0018183037130247116,
          -0.0018004507089402107,
          -0.0017825977048557115,
          -0.0017647447007712123,
          -0.0017468916966867122,
          -0.001729038692602213,
          -0.0017111856885177138,
          -0.0016933326844332137,
          -0.0016754796803487145,
          -0.0016576266762642145,
          -0.0016397736721797144,
          -0.0016219206680952152,
          -0.0016040676640107152,
          -0.001586214659926216,
          -0.0015683616558417168,
          -0.0015505086517572167,
          -0.0015326556476727175,
          -0.0015148026435882166,
          -0.0014969496395037174,
          -0.0014790966354192182,
          -0.001461243631334718,
          -0.001443390627250219,
          -0.0014255376231657197,
          -0.0014076846190812196,
          -0.0013898316149967204,
          -0.0013719786109122204,
          -0.0013541256068277203,
          -0.0013362726027432211,
          -0.001318419598658721,
          -0.0013005665945742219,
          -0.0012827135904897227,
          -0.0012648605864052226,
          -0.0012470075823207234,
          -0.0012291545782362225,
          -0.0012113015741517233,
          -0.001193448570067224,
          -0.001175595565982724,
          -0.0011577425618982248,
          -0.0011398895578137247,
          -0.0011220365537292255,
          -0.0011041835496447263,
          -0.0010863305455602263,
          -0.0010684775414757262,
          -0.001050624537391227,
          -0.001032771533306727,
          -0.0010149185292222277,
          -0.0009970655251377277,
          -0.0009792125210532285,
          -0.0009613595169687293,
          -0.0009435065128842283,
          -0.0009256535087997292,
          -0.00090780050471523,
          -0.0008899475006307299,
          -0.0008720944965462307,
          -0.0008542414924617306,
          -0.0008363884883772314,
          -0.0008185354842927322,
          -0.0008006824802082322,
          -0.0007828294761237321,
          -0.0007649764720392329,
          -0.0007471234679547328,
          -0.0007292704638702336,
          -0.0007114174597857336,
          -0.0006935644557012344,
          -0.0006757114516167352,
          -0.0006578584475322342,
          -0.000640005443447735,
          -0.000622152439363235,
          -0.0006042994352787358,
          -0.0005864464311942366,
          -0.0005685934271097365,
          -0.0005507404230252373,
          -0.0005328874189407381,
          -0.0005150344148562381,
          -0.000497181410771738,
          -0.0004793284066872379,
          -0.0004614754026027387,
          -0.00044362239851823953,
          -0.00042576939443373946,
          -0.00040791639034924027,
          -0.00039006338626474107,
          -0.00037221038218024013,
          -0.00035435737809574094,
          -0.00033650437401124087,
          -0.0003186513699267417,
          -0.0003007983658422425,
          -0.0002829453617577424,
          -0.0002650923576732432,
          -0.000247239353588744,
          -0.00022938634950424395,
          -0.00021153334541974388,
          -0.00019368034133524382,
          -0.00017582733725074462,
          -0.00015797433316624542,
          -0.00014012132908174536,
          -0.00012226832499724616,
          -0.00010441532091274609,
          -0.00008656231682824603,
          -0.00006870931274374683,
          -0.000050856308659246764,
          -0.000033003304574747566,
          -0.000015150300490248368,
          0.000002702703594251697,
          0.000020555707678750895,
          0.00003840871176325096,
          0.00005626171584775016,
          0.00007411471993225022,
          0.00009196772401675029,
          0.00010982072810124949,
          0.00012767373218574869,
          0.00014552673627024875,
          0.00016337974035474795,
          0.00018123274443924801,
          0.00019908574852374808,
          0.00021693875260824728,
          0.00023479175669274734,
          0.00025264476077724654,
          0.00027049776486174574,
          0.0002883507689462458,
          0.000306203773030745,
          0.00032405677711524507,
          0.00034190978119974427,
          0.00035976278528424433,
          0.0003776157893687444,
          0.0003954687934532436,
          0.00041332179753774366,
          0.00043117480162224286,
          0.00044902780570674206,
          0.0004668808097912421,
          0.0004847338138757422,
          0.0005025868179602414,
          0.0005204398220447414,
          0.0005382928261292406,
          0.0005561458302137407,
          0.0005739988342982399,
          0.0005918518383827391,
          0.0006097048424672392,
          0.0006275578465517384,
          0.0006454108506362384,
          0.0006632638547207385,
          0.0006811168588052377,
          0.0006989698628897378,
          0.000716822866974237,
          0.0007346758710587362,
          0.0007525288751432362,
          0.0007703818792277363,
          0.0007882348833122355,
          0.0008060878873967356,
          0.0008239408914812348,
          0.0008417938955657348,
          0.000859646899650234,
          0.0008774999037347332,
          0.0008953529078192333,
          0.0009132059119037325,
          0.0009310589159882334,
          0.0009489119200727326,
          0.0009667649241572318,
          0.0009846179282417319,
          0.001002470932326231,
          0.0010203239364107303,
          0.0010381769404952303,
          0.0010560299445797304,
          0.0010738829486642305,
          0.0010917359527487297,
          0.0011095889568332289,
          0.001127441960917729,
          0.0011452949650022281,
          0.0011631479690867273,
          0.0011810009731712274,
          0.0011988539772557266,
          0.0012167069813402275,
          0.0012345599854247267,
          0.001252412989509226,
          0.001270265993593726,
          0.0012881189976782252,
          0.0013059720017627244,
          0.0013238250058472244,
          0.0013416780099317245,
          0.0013595310140162246,
          0.0013773840181007238,
          0.001395237022185223,
          0.001413090026269723,
          0.0014309430303542222,
          0.0014487960344387214,
          0.0014666490385232215,
          0.0014845020426077207,
          0.0015023550466922216,
          0.0015202080507767217,
          0.00153806105486122,
          0.00155591405894572,
          0.0015737670630302202,
          0.0015916200671147185,
          0.0016094730711992185,
          0.0016273260752837186,
          0.0016451790793682187,
          0.0016630320834527187,
          0.001680885087537217,
          0.0016987380916217171,
          0.0017165910957062172,
          0.0017344440997907155,
          0.0017522971038752156,
          0.0017701501079597157,
          0.0017880031120442157,
          0.001805856116128714,
          0.0018237091202132141,
          0.0018415621242977125,
          0.0018594151283822143,
          0.0018772681324667143,
          0.0018951211365512127,
          0.0019129741406357127,
          0.001930827144720211,
          0.0019486801488047129,
          0.001966533152889211,
          0.0019843861569737112,
          0.0020022391610582113,
          0.0020200921651427096,
          0.0020379451692272114,
          0.0020557981733117098,
          0.00207365117739621,
          0.002091504181480708,
          0.0021093571855652082,
          0.0021272101896497083,
          0.0021450631937342084,
          0.0021629161978187084,
          0.0021807692019032068,
          0.002198622205987707,
          0.002216475210072205,
          0.002234328214156707,
          0.0022521812182412053,
          0.0022700342223257054,
          0.0022878872264102054,
          0.0023057402304947038,
          0.0023235932345792056,
          0.002341446238663704,
          0.002359299242748204,
          0.0023771522468327023,
          0.0023950052509172023,
          0.0024128582550017007,
          0.0024307112590862025,
          0.0024485642631707025,
          0.002466417267255201,
          0.002484270271339701,
          0.0025021232754241993,
          0.002519976279508701,
          0.0025378292835931994,
          0.0025556822876776995,
          0.0025735352917621995,
          0.002591388295846698,
          0.0026092412999311997
         ],
         "xaxis": "x",
         "y": [
          0.2693959331430667,
          0.2811785842202974,
          0.2931514122717269,
          0.3055478989560501,
          0.31863208894146877,
          0.33268943704968995,
          0.3480165935529779,
          0.3649107877905237,
          0.38365951651638913,
          0.40453123525613327,
          0.4277676867420831,
          0.4535783832281267,
          0.48213759675620704,
          0.5135840149322827,
          0.5480230043222508,
          0.5855312060506429,
          0.6261629860638698,
          0.6699580925044804,
          0.7169497492805824,
          0.7671723494189274,
          0.820667911127039,
          0.8774905258053233,
          0.9377081576706342,
          1.0014013414634044,
          1.0686585558838324,
          1.139568310431417,
          1.2142082542821002,
          1.2926318786137547,
          1.3748536193735261,
          1.46083335826344,
          1.5504614507106373,
          1.6435454694724756,
          1.7397998345124548,
          1.8388394021753711,
          1.940177913139647,
          2.0432319580299074,
          2.1473308256041763,
          2.25173226870759,
          2.3556438781181828,
          2.458249415804837,
          2.5587391486096034,
          2.6563429608538205,
          2.7503648265339953,
          2.8402171008862025,
          2.925453054160756,
          3.005796118824855,
          3.081164450925326,
          3.1516896078609764,
          3.217728405190852,
          3.2798673184123257,
          3.3389191244814085,
          3.395911814622667,
          3.452070137973656,
          3.508790439805796,
          3.5676097256161494,
          3.630170102841609,
          3.6981799172534124,
          3.7733730055043795,
          3.8574675253271304,
          3.952125799321494,
          4.058916518420048,
          4.1792805011088925,
          4.314501001621434,
          4.4656793153915455,
          4.633716157271652,
          4.819299004649248,
          5.022895322985934,
          5.244751345455206,
          5.484895880023258,
          5.7431484818924154,
          6.01913126666364,
          6.312283652685341,
          6.621879404486696,
          6.94704548934021,
          7.286782434974604,
          7.639986062138162,
          8.005470632620497,
          8.381993574123795,
          8.76828199537111,
          9.163061173293816,
          9.565085074590003,
          9.973168773415056,
          10.386222363714099,
          10.803285666554098,
          11.2235627341165,
          11.64645488973904,
          12.07159085267821,
          12.498852406094956,
          12.928394096304766,
          13.360655607386196,
          13.796365731219563,
          14.236537229546911,
          14.68245233171431,
          15.135639092289852,
          15.5978393069141,
          16.070969114652133,
          16.557073769156545,
          17.058278317226602,
          17.57673607172926,
          18.11457680834798,
          18.67385656507026,
          19.25651080042405,
          19.864312495805,
          20.49883659268193,
          21.161431955817633,
          21.853201859128436,
          22.57499380112075,
          23.327399261131657,
          24.11076378652178,
          24.925207530678993,
          25.770656019270167,
          26.646880491636548,
          27.55354664233781,
          28.49026998853832,
          29.456675445662636,
          30.45245805893119,
          31.47744127982004,
          32.5316287707789,
          33.61524554524517,
          34.728764369510216,
          35.87291381429473,
          37.04866516382663,
          38.257196550355026,
          39.49983412634191,
          40.777971723385896,
          42.09297215536723,
          43.44605496351662,
          44.83817682746083,
          46.26991194189534,
          47.74134026955163,
          49.2519516491742,
          50.800573228462824,
          52.38532662148684,
          54.00361962182395,
          55.65217534368695,
          57.327099454329954,
          59.023983863439724,
          60.738043016429174,
          62.46427695695245,
          64.19765371549711,
          65.93330244802031,
          67.66670815309607,
          69.3938987558852,
          71.11161583779482,
          72.81746124961657,
          74.51001318125267,
          76.18890686148858,
          77.85487680674193,
          79.50975931094128,
          81.15645556424614,
          82.79885732030401,
          84.44173833868284,
          86.09061587592525,
          87.75158727579252,
          89.43114722942026,
          91.13599156890287,
          92.87281356328485,
          94.64809864755495,
          96.46792337332067,
          98.33776415615955,
          100.26232112842719,
          102.24536209287908,
          104.28959120334318,
          106.39654655458665,
          108.56653031846595,
          110.79857439031393,
          113.090443686197,
          115.43867824652952,
          117.8386741580915,
          120.2848020266271,
          122.77056035667876,
          125.28875978284074,
          127.8317327201242,
          130.39156174280166,
          132.96031894570754,
          135.53030776990317,
          138.09429835511352,
          140.64574746596216,
          143.17899445709315,
          145.68942559718076,
          148.17360033973233,
          150.62933475853777,
          153.05573928146026,
          155.453209960279,
          157.8233746922844,
          160.16899793637185,
          162.49384941478644,
          164.80254393839164,
          167.10036072897572,
          169.39305134955129,
          171.6866455356814,
          173.98726382781248,
          176.30094495768066,
          178.63349450593293,
          180.9903595282959,
          183.37653178400853,
          185.79648005695904,
          188.2541100112854,
          190.75274823812356,
          193.29514577473628,
          195.88349551957123,
          198.51945768433043,
          201.2041877164719,
          203.93836193304125,
          206.72219731646817,
          209.55546338075573,
          212.43748554487914,
          215.36714086916612,
          218.3428481594506,
          221.3625552017473,
          224.42372619031084,
          227.52333225065343,
          230.6578473953109,
          233.8232513981053,
          237.015040084531,
          240.22824258171812,
          243.45744431342052,
          246.6968140950747,
          249.9401336612317,
          253.1808283585869,
          256.41199850958213,
          259.6264519784675,
          262.8167395898008,
          265.97519606879234,
          269.09398990491854,
          272.1651858246185,
          275.180823288692,
          278.1330135692986,
          281.01405655329165,
          283.81657658304056,
          286.5336745657863,
          289.15909148194106,
          291.68737653785917,
          294.1140517576829,
          296.43576396441455,
          298.65041496674667,
          300.7572613700348,
          302.7569767102698,
          304.6516704405597,
          306.4448604996448,
          308.14139855341966,
          309.7473493164513,
          311.2698274506597,
          312.71679727011343,
          314.09684177997264,
          315.418908432035,
          316.6920394299724,
          317.9250945441109,
          319.12647429727826,
          320.30385115464793,
          321.4639160665598,
          322.61214741265405,
          323.75260907791505,
          324.8877840176544,
          326.018449173728,
          327.1435969110109,
          328.2604071809327,
          329.36427334137375,
          330.44888296073026,
          331.50635304583074,
          332.5274170408192,
          333.5016587692175,
          334.4177863811582,
          335.26393747855127,
          336.02800506950064,
          336.69797297008887,
          337.2622488079298,
          337.7099829216365,
          338.0313621787761,
          338.2178689917734,
          338.2624975000873,
          338.15992088549103,
          337.9066059606684,
          337.50087338408355,
          336.94290397998407,
          336.2346935735643,
          335.37996040169674,
          334.3840104699591,
          333.25356716339525,
          331.9965719747503,
          330.62196340756077,
          329.1394409823358,
          327.559220882222,
          325.8917891938212,
          324.1476580143598,
          322.33712899438956,
          320.4700682479572,
          318.55569605752476,
          316.60239447487567,
          314.6175357891334,
          312.6073348837082,
          310.5767286865077,
          308.52928615384974,
          306.4671524179127,
          304.391030758642,
          302.30020582512,
          300.1926109361343,
          298.0649412730354,
          295.91281331798547,
          293.730969013885,
          291.51352090367914,
          289.2542320695685,
          286.9468221981397,
          284.58528873525245,
          282.1642300665,
          279.6791561637853,
          277.1267713531594,
          274.5052139243208,
          271.81423830692864,
          269.05532751009014,
          266.2317264161013,
          263.3483902233718,
          260.4118466631986,
          257.4299753274657,
          254.41171225049567,
          251.3666924717681,
          248.30484734717362,
          245.2359765743844,
          242.16931699862928,
          239.11313108154005,
          236.07433734770314,
          233.05820316815914,
          230.0681169972535,
          227.10545284445092,
          224.16953461613633,
          221.25770234499848,
          218.36547661307623,
          215.48681205017238,
          212.61442600725766,
          209.74018466585824,
          206.8555261735985,
          203.95189902434151,
          201.02119386116547,
          198.05614810618553,
          195.0507051610764,
          192.00031315456195,
          188.90215207033603,
          185.75528228141854,
          182.5607117587992,
          179.3213832533144,
          176.04208635340763,
          172.72930233654628,
          169.39099205822072,
          166.03633871847995,
          162.67545822438024,
          159.3190900819527,
          155.97828138842257,
          152.6640756557549,
          149.38721698726863,
          146.15787865266952,
          142.98542345629085,
          139.87820154858252,
          136.84338955924082,
          133.88687318867534,
          131.0131737316367,
          128.2254174669425,
          125.52534547102344,
          122.91336023795577,
          120.3886045475705,
          117.94906734131081,
          115.59171095711896,
          113.31261394010711,
          111.10712376951118,
          108.97001419271173,
          106.89564238800779,
          104.87810183314022,
          102.9113674753497,
          100.9894305217794,
          99.10642084489628,
          97.25671558819067,
          95.43503304114475,
          93.63651122568982,
          91.85677091196766,
          90.09196298517969,
          88.33880025171038,
          86.59457393751927,
          84.85715532690278,
          83.12498323757349,
          81.39703833769101,
          79.67280567588483,
          77.95222719519104,
          76.23564640223236,
          74.52374772111727,
          72.81749333129461,
          71.11806042635783,
          69.42678180144641,
          67.74509245895919,
          66.074484511749,
          64.41647207524488,
          62.772567109584394,
          61.14426635121855,
          59.533048624205286,
          57.9403810143139,
          56.36773169309304,
          54.81658665503379,
          53.28846732517611,
          51.78494593368072,
          50.30765574247964,
          48.85829362899505,
          47.43861314485644,
          46.05040691974489,
          44.69547810892705,
          43.37560142228884,
          42.09247506178317,
          40.8476655820438,
          39.64254823797673,
          38.47824577085706,
          37.35556880237304,
          36.274961057251154,
          35.236452530285234,
          34.239623467249686,
          33.28358165609864,
          32.366955038101445,
          31.487901059282425,
          30.64413350133371,
          29.83296677101857,
          29.051376806784898,
          28.296076908693184,
          27.563605951691347,
          26.850425652631753,
          26.153022886698416,
          25.46801255128555,
          24.792236213864015,
          24.122851802865018,
          23.457409935921437,
          22.79391313109848,
          22.130855087514387,
          21.467238395168433,
          20.802570355927283,
          20.136837964385286,
          19.470464394448822,
          18.804250452454944,
          18.139305291940037,
          17.47697116557661,
          16.818747076875976,
          16.16621588723284,
          15.52097877100746,
          14.884599965778975,
          14.258563636598662,
          13.64424347759822,
          13.042884530107123,
          12.4555957119549,
          11.883350814972552,
          11.326995293978786,
          10.787256062952862,
          10.264751719133383,
          9.760001087420607,
          9.273428643826332,
          8.805366149314514,
          8.356050609596386,
          7.925619382174106,
          7.514103803019869,
          7.121423046923908,
          6.747380038878909,
          6.391661097493918,
          6.053840639927228,
          5.733391757633359,
          5.429702845495489,
          5.142099804235726,
          4.869872708617668,
          4.612305306621747,
          4.368705339551305,
          4.138433484897968,
          3.920928738127307,
          3.7157282616551237,
          3.5224801159327654,
          3.340947810079391,
          3.17100621823088,
          3.0126290472008113,
          2.8658686552317447,
          2.7308295593508456,
          2.607637388105239,
          2.496405307788575,
          2.3972000588393785,
          2.310009685278803,
          2.2347148385997353,
          2.171065215344036,
          2.118662280553304,
          2.0769489781299244,
          2.0452066753068485,
          2.0225591697498446,
          2.007983234981331,
          2.000324913618109,
          1.9983205977956997,
          2.000621860045515,
          2.005823003449166,
          2.012490366866001,
          2.019192524526311,
          2.0245306334814104,
          2.0271682842308802,
          2.0258602821510445,
          2.01947982113487,
          2.0070435063147722,
          1.9877336489262756,
          1.9609172095650542,
          1.9261607271187249,
          1.8832405615203962,
          1.8321478187869802,
          1.7730874305350866,
          1.7064710331425375
         ],
         "yaxis": "y"
        }
       ],
       "layout": {
        "barmode": "overlay",
        "height": 650,
        "hovermode": "closest",
        "legend": {
         "traceorder": "reversed"
        },
        "template": {
         "data": {
          "bar": [
           {
            "error_x": {
             "color": "#2a3f5f"
            },
            "error_y": {
             "color": "#2a3f5f"
            },
            "marker": {
             "line": {
              "color": "#E5ECF6",
              "width": 0.5
             },
             "pattern": {
              "fillmode": "overlay",
              "size": 10,
              "solidity": 0.2
             }
            },
            "type": "bar"
           }
          ],
          "barpolar": [
           {
            "marker": {
             "line": {
              "color": "#E5ECF6",
              "width": 0.5
             },
             "pattern": {
              "fillmode": "overlay",
              "size": 10,
              "solidity": 0.2
             }
            },
            "type": "barpolar"
           }
          ],
          "carpet": [
           {
            "aaxis": {
             "endlinecolor": "#2a3f5f",
             "gridcolor": "white",
             "linecolor": "white",
             "minorgridcolor": "white",
             "startlinecolor": "#2a3f5f"
            },
            "baxis": {
             "endlinecolor": "#2a3f5f",
             "gridcolor": "white",
             "linecolor": "white",
             "minorgridcolor": "white",
             "startlinecolor": "#2a3f5f"
            },
            "type": "carpet"
           }
          ],
          "choropleth": [
           {
            "colorbar": {
             "outlinewidth": 0,
             "ticks": ""
            },
            "type": "choropleth"
           }
          ],
          "contour": [
           {
            "colorbar": {
             "outlinewidth": 0,
             "ticks": ""
            },
            "colorscale": [
             [
              0,
              "#0d0887"
             ],
             [
              0.1111111111111111,
              "#46039f"
             ],
             [
              0.2222222222222222,
              "#7201a8"
             ],
             [
              0.3333333333333333,
              "#9c179e"
             ],
             [
              0.4444444444444444,
              "#bd3786"
             ],
             [
              0.5555555555555556,
              "#d8576b"
             ],
             [
              0.6666666666666666,
              "#ed7953"
             ],
             [
              0.7777777777777778,
              "#fb9f3a"
             ],
             [
              0.8888888888888888,
              "#fdca26"
             ],
             [
              1,
              "#f0f921"
             ]
            ],
            "type": "contour"
           }
          ],
          "contourcarpet": [
           {
            "colorbar": {
             "outlinewidth": 0,
             "ticks": ""
            },
            "type": "contourcarpet"
           }
          ],
          "heatmap": [
           {
            "colorbar": {
             "outlinewidth": 0,
             "ticks": ""
            },
            "colorscale": [
             [
              0,
              "#0d0887"
             ],
             [
              0.1111111111111111,
              "#46039f"
             ],
             [
              0.2222222222222222,
              "#7201a8"
             ],
             [
              0.3333333333333333,
              "#9c179e"
             ],
             [
              0.4444444444444444,
              "#bd3786"
             ],
             [
              0.5555555555555556,
              "#d8576b"
             ],
             [
              0.6666666666666666,
              "#ed7953"
             ],
             [
              0.7777777777777778,
              "#fb9f3a"
             ],
             [
              0.8888888888888888,
              "#fdca26"
             ],
             [
              1,
              "#f0f921"
             ]
            ],
            "type": "heatmap"
           }
          ],
          "heatmapgl": [
           {
            "colorbar": {
             "outlinewidth": 0,
             "ticks": ""
            },
            "colorscale": [
             [
              0,
              "#0d0887"
             ],
             [
              0.1111111111111111,
              "#46039f"
             ],
             [
              0.2222222222222222,
              "#7201a8"
             ],
             [
              0.3333333333333333,
              "#9c179e"
             ],
             [
              0.4444444444444444,
              "#bd3786"
             ],
             [
              0.5555555555555556,
              "#d8576b"
             ],
             [
              0.6666666666666666,
              "#ed7953"
             ],
             [
              0.7777777777777778,
              "#fb9f3a"
             ],
             [
              0.8888888888888888,
              "#fdca26"
             ],
             [
              1,
              "#f0f921"
             ]
            ],
            "type": "heatmapgl"
           }
          ],
          "histogram": [
           {
            "marker": {
             "pattern": {
              "fillmode": "overlay",
              "size": 10,
              "solidity": 0.2
             }
            },
            "type": "histogram"
           }
          ],
          "histogram2d": [
           {
            "colorbar": {
             "outlinewidth": 0,
             "ticks": ""
            },
            "colorscale": [
             [
              0,
              "#0d0887"
             ],
             [
              0.1111111111111111,
              "#46039f"
             ],
             [
              0.2222222222222222,
              "#7201a8"
             ],
             [
              0.3333333333333333,
              "#9c179e"
             ],
             [
              0.4444444444444444,
              "#bd3786"
             ],
             [
              0.5555555555555556,
              "#d8576b"
             ],
             [
              0.6666666666666666,
              "#ed7953"
             ],
             [
              0.7777777777777778,
              "#fb9f3a"
             ],
             [
              0.8888888888888888,
              "#fdca26"
             ],
             [
              1,
              "#f0f921"
             ]
            ],
            "type": "histogram2d"
           }
          ],
          "histogram2dcontour": [
           {
            "colorbar": {
             "outlinewidth": 0,
             "ticks": ""
            },
            "colorscale": [
             [
              0,
              "#0d0887"
             ],
             [
              0.1111111111111111,
              "#46039f"
             ],
             [
              0.2222222222222222,
              "#7201a8"
             ],
             [
              0.3333333333333333,
              "#9c179e"
             ],
             [
              0.4444444444444444,
              "#bd3786"
             ],
             [
              0.5555555555555556,
              "#d8576b"
             ],
             [
              0.6666666666666666,
              "#ed7953"
             ],
             [
              0.7777777777777778,
              "#fb9f3a"
             ],
             [
              0.8888888888888888,
              "#fdca26"
             ],
             [
              1,
              "#f0f921"
             ]
            ],
            "type": "histogram2dcontour"
           }
          ],
          "mesh3d": [
           {
            "colorbar": {
             "outlinewidth": 0,
             "ticks": ""
            },
            "type": "mesh3d"
           }
          ],
          "parcoords": [
           {
            "line": {
             "colorbar": {
              "outlinewidth": 0,
              "ticks": ""
             }
            },
            "type": "parcoords"
           }
          ],
          "pie": [
           {
            "automargin": true,
            "type": "pie"
           }
          ],
          "scatter": [
           {
            "fillpattern": {
             "fillmode": "overlay",
             "size": 10,
             "solidity": 0.2
            },
            "type": "scatter"
           }
          ],
          "scatter3d": [
           {
            "line": {
             "colorbar": {
              "outlinewidth": 0,
              "ticks": ""
             }
            },
            "marker": {
             "colorbar": {
              "outlinewidth": 0,
              "ticks": ""
             }
            },
            "type": "scatter3d"
           }
          ],
          "scattercarpet": [
           {
            "marker": {
             "colorbar": {
              "outlinewidth": 0,
              "ticks": ""
             }
            },
            "type": "scattercarpet"
           }
          ],
          "scattergeo": [
           {
            "marker": {
             "colorbar": {
              "outlinewidth": 0,
              "ticks": ""
             }
            },
            "type": "scattergeo"
           }
          ],
          "scattergl": [
           {
            "marker": {
             "colorbar": {
              "outlinewidth": 0,
              "ticks": ""
             }
            },
            "type": "scattergl"
           }
          ],
          "scattermapbox": [
           {
            "marker": {
             "colorbar": {
              "outlinewidth": 0,
              "ticks": ""
             }
            },
            "type": "scattermapbox"
           }
          ],
          "scatterpolar": [
           {
            "marker": {
             "colorbar": {
              "outlinewidth": 0,
              "ticks": ""
             }
            },
            "type": "scatterpolar"
           }
          ],
          "scatterpolargl": [
           {
            "marker": {
             "colorbar": {
              "outlinewidth": 0,
              "ticks": ""
             }
            },
            "type": "scatterpolargl"
           }
          ],
          "scatterternary": [
           {
            "marker": {
             "colorbar": {
              "outlinewidth": 0,
              "ticks": ""
             }
            },
            "type": "scatterternary"
           }
          ],
          "surface": [
           {
            "colorbar": {
             "outlinewidth": 0,
             "ticks": ""
            },
            "colorscale": [
             [
              0,
              "#0d0887"
             ],
             [
              0.1111111111111111,
              "#46039f"
             ],
             [
              0.2222222222222222,
              "#7201a8"
             ],
             [
              0.3333333333333333,
              "#9c179e"
             ],
             [
              0.4444444444444444,
              "#bd3786"
             ],
             [
              0.5555555555555556,
              "#d8576b"
             ],
             [
              0.6666666666666666,
              "#ed7953"
             ],
             [
              0.7777777777777778,
              "#fb9f3a"
             ],
             [
              0.8888888888888888,
              "#fdca26"
             ],
             [
              1,
              "#f0f921"
             ]
            ],
            "type": "surface"
           }
          ],
          "table": [
           {
            "cells": {
             "fill": {
              "color": "#EBF0F8"
             },
             "line": {
              "color": "white"
             }
            },
            "header": {
             "fill": {
              "color": "#C8D4E3"
             },
             "line": {
              "color": "white"
             }
            },
            "type": "table"
           }
          ]
         },
         "layout": {
          "annotationdefaults": {
           "arrowcolor": "#2a3f5f",
           "arrowhead": 0,
           "arrowwidth": 1
          },
          "autotypenumbers": "strict",
          "coloraxis": {
           "colorbar": {
            "outlinewidth": 0,
            "ticks": ""
           }
          },
          "colorscale": {
           "diverging": [
            [
             0,
             "#8e0152"
            ],
            [
             0.1,
             "#c51b7d"
            ],
            [
             0.2,
             "#de77ae"
            ],
            [
             0.3,
             "#f1b6da"
            ],
            [
             0.4,
             "#fde0ef"
            ],
            [
             0.5,
             "#f7f7f7"
            ],
            [
             0.6,
             "#e6f5d0"
            ],
            [
             0.7,
             "#b8e186"
            ],
            [
             0.8,
             "#7fbc41"
            ],
            [
             0.9,
             "#4d9221"
            ],
            [
             1,
             "#276419"
            ]
           ],
           "sequential": [
            [
             0,
             "#0d0887"
            ],
            [
             0.1111111111111111,
             "#46039f"
            ],
            [
             0.2222222222222222,
             "#7201a8"
            ],
            [
             0.3333333333333333,
             "#9c179e"
            ],
            [
             0.4444444444444444,
             "#bd3786"
            ],
            [
             0.5555555555555556,
             "#d8576b"
            ],
            [
             0.6666666666666666,
             "#ed7953"
            ],
            [
             0.7777777777777778,
             "#fb9f3a"
            ],
            [
             0.8888888888888888,
             "#fdca26"
            ],
            [
             1,
             "#f0f921"
            ]
           ],
           "sequentialminus": [
            [
             0,
             "#0d0887"
            ],
            [
             0.1111111111111111,
             "#46039f"
            ],
            [
             0.2222222222222222,
             "#7201a8"
            ],
            [
             0.3333333333333333,
             "#9c179e"
            ],
            [
             0.4444444444444444,
             "#bd3786"
            ],
            [
             0.5555555555555556,
             "#d8576b"
            ],
            [
             0.6666666666666666,
             "#ed7953"
            ],
            [
             0.7777777777777778,
             "#fb9f3a"
            ],
            [
             0.8888888888888888,
             "#fdca26"
            ],
            [
             1,
             "#f0f921"
            ]
           ]
          },
          "colorway": [
           "#636efa",
           "#EF553B",
           "#00cc96",
           "#ab63fa",
           "#FFA15A",
           "#19d3f3",
           "#FF6692",
           "#B6E880",
           "#FF97FF",
           "#FECB52"
          ],
          "font": {
           "color": "#2a3f5f"
          },
          "geo": {
           "bgcolor": "white",
           "lakecolor": "white",
           "landcolor": "#E5ECF6",
           "showlakes": true,
           "showland": true,
           "subunitcolor": "white"
          },
          "hoverlabel": {
           "align": "left"
          },
          "hovermode": "closest",
          "mapbox": {
           "style": "light"
          },
          "paper_bgcolor": "white",
          "plot_bgcolor": "#E5ECF6",
          "polar": {
           "angularaxis": {
            "gridcolor": "white",
            "linecolor": "white",
            "ticks": ""
           },
           "bgcolor": "#E5ECF6",
           "radialaxis": {
            "gridcolor": "white",
            "linecolor": "white",
            "ticks": ""
           }
          },
          "scene": {
           "xaxis": {
            "backgroundcolor": "#E5ECF6",
            "gridcolor": "white",
            "gridwidth": 2,
            "linecolor": "white",
            "showbackground": true,
            "ticks": "",
            "zerolinecolor": "white"
           },
           "yaxis": {
            "backgroundcolor": "#E5ECF6",
            "gridcolor": "white",
            "gridwidth": 2,
            "linecolor": "white",
            "showbackground": true,
            "ticks": "",
            "zerolinecolor": "white"
           },
           "zaxis": {
            "backgroundcolor": "#E5ECF6",
            "gridcolor": "white",
            "gridwidth": 2,
            "linecolor": "white",
            "showbackground": true,
            "ticks": "",
            "zerolinecolor": "white"
           }
          },
          "shapedefaults": {
           "line": {
            "color": "#2a3f5f"
           }
          },
          "ternary": {
           "aaxis": {
            "gridcolor": "white",
            "linecolor": "white",
            "ticks": ""
           },
           "baxis": {
            "gridcolor": "white",
            "linecolor": "white",
            "ticks": ""
           },
           "bgcolor": "#E5ECF6",
           "caxis": {
            "gridcolor": "white",
            "linecolor": "white",
            "ticks": ""
           }
          },
          "title": {
           "x": 0.05
          },
          "xaxis": {
           "automargin": true,
           "gridcolor": "white",
           "linecolor": "white",
           "ticks": "",
           "title": {
            "standoff": 15
           },
           "zerolinecolor": "white",
           "zerolinewidth": 2
          },
          "yaxis": {
           "automargin": true,
           "gridcolor": "white",
           "linecolor": "white",
           "ticks": "",
           "title": {
            "standoff": 15
           },
           "zerolinecolor": "white",
           "zerolinewidth": 2
          }
         }
        },
        "title": {
         "text": "Распределние разницы средних"
        },
        "width": 1000,
        "xaxis": {
         "anchor": "y2",
         "domain": [
          0,
          1
         ],
         "zeroline": false
        },
        "yaxis": {
         "anchor": "free",
         "domain": [
          0,
          1
         ],
         "position": 0
        }
       }
      }
     },
     "metadata": {},
     "output_type": "display_data"
    },
    {
     "data": {
      "image/png": "[encoded data removed]",
      "text/plain": [
       "<IPython.core.display.Image object>"
      ]
     },
     "metadata": {
      "image/png": {
       "width": 800
      }
     },
     "output_type": "display_data"
    }
   ],
   "source": [
    "boot_1d['diff'] = boot_1d.new_page-boot_1d.old_page\n",
    "\n",
    "hist_data = [list(boot_1d['diff'])]\n",
    "group_labels = ['Разница средних']\n",
    "\n",
    "fig = ff.create_distplot(hist_data, group_labels, show_hist=False, bin_size=.01, show_rug=False)\n",
    "\n",
    "fig.update_layout(height=650, width=1000, title_text='Распределние разницы средних')\n",
    "fig.show()\n",
    "\n",
    "display(Image(filename='img/avg_diff_distribution.png', width=800))"
   ]
  },
  {
   "attachments": {},
   "cell_type": "markdown",
   "metadata": {},
   "source": [
    "Посчитаем 95%-й доверительный интервал для разницы средних."
   ]
  },
  {
   "cell_type": "code",
   "execution_count": 24,
   "metadata": {},
   "outputs": [
    {
     "name": "stdout",
     "output_type": "stream",
     "text": [
      "-0.003972274143050921 0.000793067253700739\n"
     ]
    }
   ],
   "source": [
    "alpha=0.05\n",
    "\n",
    "left = np.quantile(boot_1d['diff'], alpha/2)\n",
    "right = np.quantile(boot_1d['diff'], 1-alpha/2)\n",
    "\n",
    "print(left, right)"
   ]
  },
  {
   "attachments": {},
   "cell_type": "markdown",
   "metadata": {},
   "source": [
    "Ноль попадает в доверительный интервал, значит на уровне значимости 5% разницы между исследуемыми группами нет. Изменения в конверсии можно считать статистически не значимыми."
   ]
  },
  {
   "attachments": {},
   "cell_type": "markdown",
   "metadata": {},
   "source": [
    "# Вывод\n",
    "\n",
    "Оказывает ли новый дизайн посадочной страницы какое-либо влияние на конверсию пользователей (есть ли статистически значимая разница между конверсиями)?\n",
    "\n",
    "1. Был построен 95%-й доверительный интервал для разницы средних значений конверсии. На уровне значимости 5% можно утверждать, что новый дизайн страницы не оказывает влияния на конверсию пользователей.\n",
    "\n",
    "2. После применения критерия хи-квадрат Пирсона был получен p-уровень значимости больше критического значения (> 0.05), поэтому можно утверждать, что статистически значимой разницы между конверсиями нет.\n",
    "\n",
    "3. После применения бутстрэпа к данным с конверсиями пользователей можно утверждать, что на уровне значимости 5% разницы между исследуемыми группами нет.\n",
    "\n",
    "Таким образом, исследование показало, что изменение дизайна посадочной страницы не оказывает влияния на конверсию пользователей."
   ]
  }
 ],
 "metadata": {
  "kernelspec": {
   "display_name": "Python 3",
   "language": "python",
   "name": "python3"
  },
  "language_info": {
   "codemirror_mode": {
    "name": "ipython",
    "version": 3
   },
   "file_extension": ".py",
   "mimetype": "text/x-python",
   "name": "python",
   "nbconvert_exporter": "python",
   "pygments_lexer": "ipython3",
   "version": "3.10.11"
  },
  "orig_nbformat": 4
 },
 "nbformat": 4,
 "nbformat_minor": 2
}
