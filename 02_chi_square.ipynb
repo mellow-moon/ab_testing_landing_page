{
 "cells": [
  {
   "cell_type": "code",
   "execution_count": 1,
   "metadata": {},
   "outputs": [],
   "source": [
    "# Загрузка библиотек\n",
    "import pandas as pd\n",
    "import numpy as np\n",
    "\n",
    "import scipy.stats as stats"
   ]
  },
  {
   "cell_type": "code",
   "execution_count": 2,
   "metadata": {},
   "outputs": [
    {
     "data": {
      "text/html": [
       "<div>\n",
       "<style scoped>\n",
       "    .dataframe tbody tr th:only-of-type {\n",
       "        vertical-align: middle;\n",
       "    }\n",
       "\n",
       "    .dataframe tbody tr th {\n",
       "        vertical-align: top;\n",
       "    }\n",
       "\n",
       "    .dataframe thead th {\n",
       "        text-align: right;\n",
       "    }\n",
       "</style>\n",
       "<table border=\"1\" class=\"dataframe\">\n",
       "  <thead>\n",
       "    <tr style=\"text-align: right;\">\n",
       "      <th></th>\n",
       "      <th>user_id</th>\n",
       "      <th>timestamp</th>\n",
       "      <th>group</th>\n",
       "      <th>landing_page</th>\n",
       "      <th>converted</th>\n",
       "    </tr>\n",
       "  </thead>\n",
       "  <tbody>\n",
       "    <tr>\n",
       "      <th>0</th>\n",
       "      <td>851104</td>\n",
       "      <td>11:48.6</td>\n",
       "      <td>control</td>\n",
       "      <td>old_page</td>\n",
       "      <td>0</td>\n",
       "    </tr>\n",
       "    <tr>\n",
       "      <th>1</th>\n",
       "      <td>804228</td>\n",
       "      <td>01:45.2</td>\n",
       "      <td>control</td>\n",
       "      <td>old_page</td>\n",
       "      <td>0</td>\n",
       "    </tr>\n",
       "    <tr>\n",
       "      <th>2</th>\n",
       "      <td>661590</td>\n",
       "      <td>55:06.2</td>\n",
       "      <td>treatment</td>\n",
       "      <td>new_page</td>\n",
       "      <td>0</td>\n",
       "    </tr>\n",
       "    <tr>\n",
       "      <th>3</th>\n",
       "      <td>853541</td>\n",
       "      <td>28:03.1</td>\n",
       "      <td>treatment</td>\n",
       "      <td>new_page</td>\n",
       "      <td>0</td>\n",
       "    </tr>\n",
       "    <tr>\n",
       "      <th>4</th>\n",
       "      <td>864975</td>\n",
       "      <td>52:26.2</td>\n",
       "      <td>control</td>\n",
       "      <td>old_page</td>\n",
       "      <td>1</td>\n",
       "    </tr>\n",
       "  </tbody>\n",
       "</table>\n",
       "</div>"
      ],
      "text/plain": [
       "   user_id timestamp      group landing_page  converted\n",
       "0   851104   11:48.6    control     old_page          0\n",
       "1   804228   01:45.2    control     old_page          0\n",
       "2   661590   55:06.2  treatment     new_page          0\n",
       "3   853541   28:03.1  treatment     new_page          0\n",
       "4   864975   52:26.2    control     old_page          1"
      ]
     },
     "execution_count": 2,
     "metadata": {},
     "output_type": "execute_result"
    }
   ],
   "source": [
    "# Загрузка данных\n",
    "df_cleaned = pd.read_csv('data/df_cleaned.csv')\n",
    "df_cleaned.head()"
   ]
  },
  {
   "attachments": {},
   "cell_type": "markdown",
   "metadata": {},
   "source": [
    "## 2. Критерий хи-квадрат Пирсона"
   ]
  },
  {
   "attachments": {},
   "cell_type": "markdown",
   "metadata": {},
   "source": [
    "Мы можем оценить значимость различий между двумя группами, используя критерий хи-квадрат Пирсона. Для начала построим таблицу сопряженности.\n",
    "\n",
    "Посмотрим на количество и процент пользователей, совершивших покупку и не совершивших покупку, отдельно в контрольной и экспериментальной группах."
   ]
  },
  {
   "cell_type": "code",
   "execution_count": 3,
   "metadata": {},
   "outputs": [
    {
     "data": {
      "text/html": [
       "<div>\n",
       "<style scoped>\n",
       "    .dataframe tbody tr th:only-of-type {\n",
       "        vertical-align: middle;\n",
       "    }\n",
       "\n",
       "    .dataframe tbody tr th {\n",
       "        vertical-align: top;\n",
       "    }\n",
       "\n",
       "    .dataframe thead th {\n",
       "        text-align: right;\n",
       "    }\n",
       "</style>\n",
       "<table border=\"1\" class=\"dataframe\">\n",
       "  <thead>\n",
       "    <tr style=\"text-align: right;\">\n",
       "      <th></th>\n",
       "      <th>Кол-во в контр. группе</th>\n",
       "      <th>Кол-во в эксп. группе</th>\n",
       "      <th>% в контр. группе</th>\n",
       "      <th>% в эксп. группе</th>\n",
       "    </tr>\n",
       "    <tr>\n",
       "      <th>converted</th>\n",
       "      <th></th>\n",
       "      <th></th>\n",
       "      <th></th>\n",
       "      <th></th>\n",
       "    </tr>\n",
       "  </thead>\n",
       "  <tbody>\n",
       "    <tr>\n",
       "      <th>0</th>\n",
       "      <td>127785</td>\n",
       "      <td>128049</td>\n",
       "      <td>0.879614</td>\n",
       "      <td>0.881194</td>\n",
       "    </tr>\n",
       "    <tr>\n",
       "      <th>1</th>\n",
       "      <td>17489</td>\n",
       "      <td>17264</td>\n",
       "      <td>0.120386</td>\n",
       "      <td>0.118806</td>\n",
       "    </tr>\n",
       "  </tbody>\n",
       "</table>\n",
       "</div>"
      ],
      "text/plain": [
       "           Кол-во в контр. группе  Кол-во в эксп. группе  % в контр. группе  \\\n",
       "converted                                                                     \n",
       "0                          127785                 128049           0.879614   \n",
       "1                           17489                  17264           0.120386   \n",
       "\n",
       "           % в эксп. группе  \n",
       "converted                    \n",
       "0                  0.881194  \n",
       "1                  0.118806  "
      ]
     },
     "execution_count": 3,
     "metadata": {},
     "output_type": "execute_result"
    }
   ],
   "source": [
    "df_counts = pd.DataFrame({'Кол-во в контр. группе': df_cleaned[df_cleaned.group=='control'].converted.value_counts(),\n",
    "              'Кол-во в эксп. группе': df_cleaned[df_cleaned.group=='treatment'].converted.value_counts(),\n",
    "              '% в контр. группе': df_cleaned[df_cleaned.group=='control'].converted.value_counts()/ len(df_cleaned[df_cleaned.group=='control']),\n",
    "              '% в эксп. группе': df_cleaned[df_cleaned.group=='treatment'].converted.value_counts() / len(df_cleaned[df_cleaned.group=='treatment'])})\n",
    "df_counts"
   ]
  },
  {
   "attachments": {},
   "cell_type": "markdown",
   "metadata": {},
   "source": [
    "Для исследования возьмем из таблицы первые две колонки с количеством пользователей."
   ]
  },
  {
   "cell_type": "code",
   "execution_count": 4,
   "metadata": {},
   "outputs": [
    {
     "data": {
      "text/plain": [
       "array([[127785, 128049],\n",
       "       [ 17489,  17264]], dtype=int64)"
      ]
     },
     "execution_count": 4,
     "metadata": {},
     "output_type": "execute_result"
    }
   ],
   "source": [
    "count_table = df_counts.iloc[:,0:2].to_numpy()\n",
    "count_table"
   ]
  },
  {
   "attachments": {},
   "cell_type": "markdown",
   "metadata": {},
   "source": [
    "Нулевая гипотеза H0: Распределение не отличается от ожидаемого.\n",
    "\n",
    "Альтернативная гипотеза H1: Распределение отличается (существует статистически значимая разница между конверсиями в зависимости от версии посадочной страницы)."
   ]
  },
  {
   "cell_type": "code",
   "execution_count": 5,
   "metadata": {},
   "outputs": [
    {
     "name": "stdout",
     "output_type": "stream",
     "text": [
      "Число степеней свободы: 1\n",
      "####################################### \n",
      "\n",
      "Ожидаемое распределение: \n",
      "[[127899.83211912 127934.16788088]\n",
      " [ 17374.16788088  17378.83211912]]\n",
      "####################################### \n",
      "\n",
      "Критическое значение статистики: 3.84\n",
      "Полученное значение статистики: 1.71\n",
      "####################################### \n",
      "\n",
      "Критическое значение p-уровня значимости: 0.05\n",
      "Полученное значение p-уровня значимости: 0.19\n",
      "####################################### \n",
      "\n"
     ]
    }
   ],
   "source": [
    "stat, p, dof, expected = stats.chi2_contingency(count_table) # результаты теста\n",
    "print(f'Число степеней свободы: {dof}')\n",
    "print('#######################################', '\\n')\n",
    "\n",
    "print('Ожидаемое распределение: ')\n",
    "print(expected)\n",
    "print('#######################################', '\\n')\n",
    "\n",
    "prob = 0.95\n",
    "critical = stats.chi2.ppf(prob, dof)\n",
    "print(f'Критическое значение статистики: {round(critical, 2)}')\n",
    "print(f'Полученное значение статистики: {round(stat, 2)}')\n",
    "print('#######################################', '\\n')\n",
    "\n",
    "alpha = 1-prob\n",
    "print(f'Критическое значение p-уровня значимости: {round(alpha, 2)}')\n",
    "print(f'Полученное значение p-уровня значимости: {round(p, 2)}')\n",
    "print('#######################################', '\\n')"
   ]
  },
  {
   "attachments": {},
   "cell_type": "markdown",
   "metadata": {},
   "source": [
    "Наблюдаемое значение p-уровня значимости больше критического значения, поэтому можно сделать вывод, что статистически значимой разницы между конверсиями нет."
   ]
  }
 ],
 "metadata": {
  "kernelspec": {
   "display_name": "Python 3",
   "language": "python",
   "name": "python3"
  },
  "language_info": {
   "codemirror_mode": {
    "name": "ipython",
    "version": 3
   },
   "file_extension": ".py",
   "mimetype": "text/x-python",
   "name": "python",
   "nbconvert_exporter": "python",
   "pygments_lexer": "ipython3",
   "version": "3.10.11"
  },
  "orig_nbformat": 4
 },
 "nbformat": 4,
 "nbformat_minor": 2
}
